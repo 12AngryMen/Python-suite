{
 "metadata": {
  "name": ""
 },
 "nbformat": 3,
 "nbformat_minor": 0,
 "worksheets": [
  {
   "cells": [
    {
     "cell_type": "code",
     "collapsed": false,
     "input": [
      "import numpy as np\n",
      "import matplotlib.pyplot as plt\n",
      "%matplotlib inline\n"
     ],
     "language": "python",
     "metadata": {},
     "outputs": [],
     "prompt_number": 33
    },
    {
     "cell_type": "code",
     "collapsed": false,
     "input": [
      "h2eV=27.21\n",
      "\n",
      "with open(\"EL086.log\",\"r\") as f:\n",
      "    lines=f.readlines()\n",
      "    optcomplete=False\n",
      "    occorb=[]\n",
      "    virtorb=[]\n",
      "    for line in lines:\n",
      "        if \"Optimization completed.\" in line:\n",
      "            optcomplete=True\n",
      "        if optcomplete==True:\n",
      "            if \"Alpha  occ. eigenvalues\" in line:\n",
      "                a=line.split()\n",
      "                occorb.append(float(a[4]))\n",
      "            elif \"Alpha virt. eigenvalues\" in line:\n",
      "                a=line.split()\n",
      "                virtorb.append(float(a[4]))\n",
      "        \n",
      "occorb=np.array(occorb)*h2eV\n",
      "virtorb=np.array(virtorb)*h2eV\n",
      "#print virtorb\n",
      "plt.ylabel('Energy [eV]')\n",
      "plt.hlines(occorb,[0],[0.1] ,color=\"r\")\n",
      "plt.hlines(virtorb,[0],[0.1],color=\"b\")\n",
      "plt.ylim(-20,+10)\n",
      "plt.xlim(0,0.11)\n",
      "plt.tick_params(\n",
      "    axis='x',          # changes apply to the x-axis\n",
      "    which='both',      # both major and minor ticks are affected\n",
      "    bottom='off',      # ticks along the bottom edge are off\n",
      "    top='off',         # ticks along the top edge are off\n",
      "    labelbottom='off')\n",
      "\n",
      "plt.savefig(\"levels.svg\")"
     ],
     "language": "python",
     "metadata": {},
     "outputs": [
      {
       "metadata": {},
       "output_type": "display_data",
       "png": "[encoded data removed]",
       "text": [
        "<matplotlib.figure.Figure at 0x7f692d01a650>"
       ]
      }
     ],
     "prompt_number": 49
    },
    {
     "cell_type": "code",
     "collapsed": false,
     "input": [],
     "language": "python",
     "metadata": {},
     "outputs": [
      {
       "metadata": {},
       "output_type": "display_data",
       "text": [
        "<matplotlib.figure.Figure at 0x7f6934058c50>"
       ]
      }
     ],
     "prompt_number": 46
    },
    {
     "cell_type": "code",
     "collapsed": false,
     "input": [],
     "language": "python",
     "metadata": {},
     "outputs": []
    }
   ],
   "metadata": {}
  }
 ]
}
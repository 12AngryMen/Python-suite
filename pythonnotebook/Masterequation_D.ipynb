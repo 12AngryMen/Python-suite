{
 "metadata": {
  "name": ""
 },
 "nbformat": 3,
 "nbformat_minor": 0,
 "worksheets": [
  {
   "cells": [
    {
     "cell_type": "code",
     "collapsed": false,
     "input": [
      "import sqlite3\n",
      "import numpy as np\n",
      "import scipy.linalg as lg\n",
      "import scipy.integrate as it\n",
      "import matplotlib.pyplot as plt\n",
      "import scipy.constants as ct\n",
      "import copy\n",
      "from matplotlib.mlab import griddata\n",
      "from matplotlib.colors import LogNorm\n",
      "from matplotlib import ticker\n",
      "%matplotlib inline\n",
      "plt.rcParams['figure.figsize'] = (10.0, 8.0)\n",
      "hbar=ct.physical_constants[\"Planck constant over 2 pi in eV s\"][0]\n",
      "T=300\n",
      "kbT=T*ct.physical_constants[\"Boltzmann constant in eV/K\"][0]"
     ],
     "language": "python",
     "metadata": {},
     "outputs": [],
     "prompt_number": 2
    },
    {
     "cell_type": "code",
     "collapsed": false,
     "input": [
      "sqlname=\"system_individualmps.sql\"\n",
      "sqlstatement=\"SELECT pairs.seg1, pairs.seg2, pairs.Jeff2s, seg1.eSinglet, seg1.UnXnNs, seg1.UxNxXs, seg2.eSinglet, seg2.UnXnNs, seg2.UxNxXs FROM pairs JOIN segments seg1 ON seg1._id =pairs.seg1 JOIN segments seg2 ON seg2._id =pairs.seg2\"\n",
      "con = sqlite3.connect(sqlname)\n",
      "with con:\n",
      "    cur = con.cursor()\n",
      "    cur.execute(sqlstatement)\n",
      "    rows = cur.fetchall()\n",
      "sql=np.array(rows)\n",
      "lowerlimit=0\n",
      "reorg12=sql[:,4]+sql[:,8]\n",
      "dG12=-sql[:,3]+sql[:,6]\n",
      "reorg21=sql[:,5]+sql[:,7]\n",
      "dG21=-dG12\n",
      "rates12=2*np.pi/hbar*sql[:,2]/np.sqrt(4*np.pi*kbT*reorg12)*np.exp(-(dG12+reorg12)**2/(4*reorg12*kbT))\n",
      "rates21=2*np.pi/hbar*sql[:,2]/np.sqrt(4*np.pi*kbT*reorg21)*np.exp(-(dG21+reorg21)**2/(4*reorg21*kbT))\n",
      "maxi=np.max([np.max(rates12),np.max(rates21)])\n",
      "print maxi\n",
      "\n",
      "sqlstatement=\"SELECT box11,box12,box13,box21,box22,box23,box31,box32,box33 from frames\"\n",
      "con = sqlite3.connect(sqlname)\n",
      "with con:\n",
      "    cur = con.cursor()\n",
      "    cur.execute(sqlstatement)\n",
      "    vecs = cur.fetchall()\n",
      "    box=np.array(vecs).reshape((3,3))\n",
      "    print box\n",
      "sqlstatement=\"SELECT posX,posY,posZ from segments\"\n",
      "con = sqlite3.connect(sqlname)\n",
      "with con:\n",
      "    cur = con.cursor()\n",
      "    cur.execute(sqlstatement)\n",
      "    rows2 = cur.fetchall()\n",
      "    positions=np.array(rows2)\n",
      "\n",
      "#dimension=int(max(np.max(sql[:,0]),np.max(sql[:,1])))\n",
      "dimension=1568\n",
      "print dimension\n",
      "\n",
      "matrix=np.zeros((dimension,dimension))\n",
      "print len(rows)\n",
      "for k in range(len(rows)):\n",
      "    rate12=rates12[k]\n",
      "    rate21=rates21[k]\n",
      "    row=rows[k]\n",
      "    i=row[0]-1\n",
      "    j=row[1]-1 \n",
      "    matrix[i,j]=rate12\n",
      "    matrix[i,i]-=rate12\n",
      "    matrix[j,i]=rate21\n",
      "    matrix[j,j]-=rate21\n",
      "    \n",
      "initial=np.zeros(dimension)\n",
      "initial[0]=1.0"
     ],
     "language": "python",
     "metadata": {},
     "outputs": [
      {
       "output_type": "stream",
       "stream": "stdout",
       "text": [
        "5.76568162428e+14\n",
        "[[ 10.73884   0.        0.     ]\n",
        " [  0.       10.78449   0.     ]\n",
        " [  0.        0.       10.39411]]\n",
        "1568\n",
        "56151\n"
       ]
      }
     ],
     "prompt_number": 3
    },
    {
     "cell_type": "code",
     "collapsed": false,
     "input": [],
     "language": "python",
     "metadata": {},
     "outputs": [],
     "prompt_number": 3
    },
    {
     "cell_type": "code",
     "collapsed": false,
     "input": [],
     "language": "python",
     "metadata": {},
     "outputs": [],
     "prompt_number": 3
    },
    {
     "cell_type": "code",
     "collapsed": false,
     "input": [
      "\n",
      "def f(t,y):\n",
      "    return np.dot(matrix,y)\n",
      "def jac(t,y):\n",
      "    return matrix\n",
      "print np.sum(initial)"
     ],
     "language": "python",
     "metadata": {},
     "outputs": [
      {
       "output_type": "stream",
       "stream": "stdout",
       "text": [
        "1.0\n"
       ]
      }
     ],
     "prompt_number": 4
    },
    {
     "cell_type": "code",
     "collapsed": false,
     "input": [
      "r = it.ode(f, jac).set_integrator('Isoda',  with_jacobian=True)\n",
      "r.set_initial_value(initial)\n",
      "\n",
      "t1 = 10e-13\n",
      "print t1\n",
      "dt = 10e-17\n",
      "solution=[]\n",
      "time=[]\n",
      "while r.successful() and r.t < t1:\n",
      "    r.integrate(r.t+dt)\n",
      "    solution.append(r.y)\n",
      "    time.append(r.t)"
     ],
     "language": "python",
     "metadata": {},
     "outputs": [
      {
       "output_type": "stream",
       "stream": "stdout",
       "text": [
        "1e-12\n"
       ]
      }
     ],
     "prompt_number": 173
    },
    {
     "cell_type": "code",
     "collapsed": false,
     "input": [
      "\n"
     ],
     "language": "python",
     "metadata": {},
     "outputs": [],
     "prompt_number": 173
    },
    {
     "cell_type": "code",
     "collapsed": false,
     "input": [
      "timearray=np.array(time)\n",
      "solutionarray=np.array(solution).T\n",
      "print np.shape(timearray),np.shape(solutionarray)"
     ],
     "language": "python",
     "metadata": {},
     "outputs": [
      {
       "output_type": "stream",
       "stream": "stdout",
       "text": [
        "(10001,) (1568, 10001)\n"
       ]
      }
     ],
     "prompt_number": 174
    },
    {
     "cell_type": "code",
     "collapsed": false,
     "input": [
      "print np.shape(positions)"
     ],
     "language": "python",
     "metadata": {},
     "outputs": [
      {
       "output_type": "stream",
       "stream": "stdout",
       "text": [
        "(1568, 3)\n"
       ]
      }
     ],
     "prompt_number": 175
    },
    {
     "cell_type": "code",
     "collapsed": false,
     "input": [
      "results=np.vstack((time,solutionarray))"
     ],
     "language": "python",
     "metadata": {},
     "outputs": [],
     "prompt_number": 176
    },
    {
     "cell_type": "code",
     "collapsed": false,
     "input": [
      "np.savetxt(\"poft.txt\",results,header=\"Occupationprobability over time\", fmt='%.4e')"
     ],
     "language": "python",
     "metadata": {},
     "outputs": [],
     "prompt_number": 177
    },
    {
     "cell_type": "code",
     "collapsed": false,
     "input": [
      "x=np.arange(-1,2)\n",
      "g=2*np.pi*lg.inv(box)\n",
      "print g\n",
      "kx,ky,kz=np.meshgrid(x,x,x)"
     ],
     "language": "python",
     "metadata": {},
     "outputs": [
      {
       "output_type": "stream",
       "stream": "stdout",
       "text": [
        "[[ 0.58508976 -0.         -0.        ]\n",
        " [ 0.          0.58261311 -0.        ]\n",
        " [ 0.          0.          0.60449479]]\n"
       ]
      }
     ],
     "prompt_number": 178
    },
    {
     "cell_type": "code",
     "collapsed": false,
     "input": [
      "kindices=np.array([kx.flatten(),ky.flatten(),kz.flatten()])\n",
      "\n",
      "kvectors=np.dot(kindices.T,g)\n",
      "print kvectors.T.shape\n",
      "print positions.shape\n",
      "print kvectors[13]"
     ],
     "language": "python",
     "metadata": {},
     "outputs": [
      {
       "output_type": "stream",
       "stream": "stdout",
       "text": [
        "(3, 27)\n",
        "(1568, 3)\n",
        "[ 0.  0.  0.]\n"
       ]
      }
     ],
     "prompt_number": 179
    },
    {
     "cell_type": "code",
     "collapsed": false,
     "input": [
      "V=np.linalg.det(box)\n",
      "print 1/V\n",
      "N=float(dimension)\n",
      "print N\n",
      "print np.sum(solutionarray,axis=0)"
     ],
     "language": "python",
     "metadata": {},
     "outputs": [
      {
       "output_type": "stream",
       "stream": "stdout",
       "text": [
        "0.000830721991361\n",
        "1568.0\n",
        "[ 0.96838071  0.93674782  0.90535341 ...,  0.01157011  0.01156992\n",
        "  0.01156973]\n"
       ]
      }
     ],
     "prompt_number": 180
    },
    {
     "cell_type": "code",
     "collapsed": false,
     "input": [
      "rm=initial*positions.T\n",
      "print np.dot(kvectors,positions.T-rm).T\n",
      "expkrj=np.exp(-1j*np.dot(kvectors,positions.T-rm))\n",
      "summand=V/N*np.dot(solutionarray.T,expkrj.T)\n",
      "summand.shape"
     ],
     "language": "python",
     "metadata": {},
     "outputs": [
      {
       "output_type": "stream",
       "stream": "stdout",
       "text": [
        "[[  0.00000000e+00   0.00000000e+00   0.00000000e+00 ...,   0.00000000e+00\n",
        "    0.00000000e+00   0.00000000e+00]\n",
        " [ -1.27680434e+00  -1.07598560e+00  -8.75166853e-01 ...,   8.75166853e-01\n",
        "    1.07598560e+00   1.27680434e+00]\n",
        " [ -8.63982217e-01  -4.36545646e-01  -9.10907542e-03 ...,   9.10907542e-03\n",
        "    4.36545646e-01   8.63982217e-01]\n",
        " ..., \n",
        " [ -1.58903229e+01  -9.72950624e+00  -3.56868957e+00 ...,   3.56868957e+00\n",
        "    9.72950624e+00   1.58903229e+01]\n",
        " [ -1.67247924e+01  -1.08009685e+01  -4.87714468e+00 ...,   4.87714468e+00\n",
        "    1.08009685e+01   1.67247924e+01]\n",
        " [ -1.74626504e+01  -1.13297451e+01  -5.19683972e+00 ...,   5.19683972e+00\n",
        "    1.13297451e+01   1.74626504e+01]]\n"
       ]
      },
      {
       "metadata": {},
       "output_type": "pyout",
       "prompt_number": 181,
       "text": [
        "(10001, 27)"
       ]
      }
     ],
     "prompt_number": 181
    },
    {
     "cell_type": "code",
     "collapsed": false,
     "input": [
      "# right now only valid for one insertion position\n",
      "if False:\n",
      "    rm=initial*positions.T\n",
      "    rm=rm[:,initial>0]\n",
      "    M=np.sum(initial)\n",
      "    expkrm=np.average(np.exp(-1j*np.dot(kvectors,rm)),axis=1)\n",
      "\n",
      "    pk=summand*expkrm"
     ],
     "language": "python",
     "metadata": {},
     "outputs": [],
     "prompt_number": 182
    },
    {
     "cell_type": "code",
     "collapsed": false,
     "input": [
      "summand[:,13]"
     ],
     "language": "python",
     "metadata": {},
     "outputs": [
      {
       "metadata": {},
       "output_type": "pyout",
       "prompt_number": 183,
       "text": [
        "array([ 0.74343733+0.j,  0.71915238+0.j,  0.69505052+0.j, ...,\n",
        "        0.00888251+0.j,  0.00888236+0.j,  0.00888222+0.j])"
       ]
      }
     ],
     "prompt_number": 183
    },
    {
     "cell_type": "code",
     "collapsed": false,
     "input": [
      "plt.plot(time,summand[:,13].real)\n",
      "plt.xscale(\"log\")"
     ],
     "language": "python",
     "metadata": {},
     "outputs": [
      {
       "metadata": {},
       "output_type": "display_data",
       "png": "[encoded data removed]",
       "text": [
        "<matplotlib.figure.Figure at 0xd70edd0>"
       ]
      }
     ],
     "prompt_number": 168
    },
    {
     "cell_type": "code",
     "collapsed": false,
     "input": [],
     "language": "python",
     "metadata": {},
     "outputs": []
    }
   ],
   "metadata": {}
  }
 ]
}
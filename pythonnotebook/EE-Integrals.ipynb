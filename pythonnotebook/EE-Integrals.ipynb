{
 "metadata": {
  "name": ""
 },
 "nbformat": 3,
 "nbformat_minor": 0,
 "worksheets": [
  {
   "cells": [
    {
     "cell_type": "code",
     "collapsed": false,
     "input": [
      "import numpy as np\n",
      "import scipy.special as num"
     ],
     "language": "python",
     "metadata": {},
     "outputs": [],
     "prompt_number": 1
    },
    {
     "cell_type": "code",
     "collapsed": false,
     "input": [
      "A=np.array([0,0,0])*1.8897259886\n",
      "C=np.array([1.13858,0,0])*1.8897259886\n",
      "B=np.array([0,0,0])*1.8897259886\n",
      "D=np.array([1.13858,0,0])*1.8897259886\n",
      "decay_A=2.263101\n",
      "decay_B=2.263101\n",
      "decay_C=47.105518\n",
      "decay_D=47.105518\n",
      "Normalisation_A=(2*decay_A/np.pi)**0.75\n",
      "Normalisation_B=(2*decay_B/np.pi)**0.75\n",
      "Normalisation_C=(2*decay_C/np.pi)**0.75\n",
      "Normalisation_D=(2*decay_D/np.pi)**0.75\n",
      "zeta=decay_A+decay_B\n",
      "nu=decay_C+decay_D\n",
      "xi=decay_A*decay_B/zeta\n",
      "rho=zeta*nu/(zeta+nu)\n",
      "P=(decay_A*A+decay_B*B)/zeta\n",
      "Q=1/nu*(decay_C*C+decay_D*D)\n",
      "T=rho*np.dot(P-Q,P-Q)"
     ],
     "language": "python",
     "metadata": {},
     "outputs": [],
     "prompt_number": 6
    },
    {
     "cell_type": "code",
     "collapsed": false,
     "input": [
      "def F(T):\n",
      "    if T!=0.0:\n",
      "        return 0.5*num.erf(np.sqrt(T))*(np.pi/T)**0.5\n",
      "    else:\n",
      "        return 1"
     ],
     "language": "python",
     "metadata": {},
     "outputs": [],
     "prompt_number": 3
    },
    {
     "cell_type": "code",
     "collapsed": false,
     "input": [
      "def K(decay1,decay2,R1,R2):\n",
      "    return np.sqrt(2)*np.pi**1.25/(decay1+decay2)*np.exp(-decay1*decay2/(decay1+decay2)*np.dot(R1-R2,R1-R2))"
     ],
     "language": "python",
     "metadata": {},
     "outputs": [],
     "prompt_number": 4
    },
    {
     "cell_type": "code",
     "collapsed": false,
     "input": [
      "ssss=(rho+nu)**(-0.5)*K(decay_A,decay_B,A,B)*K(decay_C,decay_D,C,D)*F(T)"
     ],
     "language": "python",
     "metadata": {},
     "outputs": [],
     "prompt_number": 8
    },
    {
     "cell_type": "code",
     "collapsed": false,
     "input": [
      "ssss"
     ],
     "language": "python",
     "metadata": {},
     "outputs": [
      {
       "metadata": {},
       "output_type": "pyout",
       "prompt_number": 9,
       "text": [
        "0.0016382887691304441"
       ]
      }
     ],
     "prompt_number": 9
    },
    {
     "cell_type": "code",
     "collapsed": false,
     "input": [],
     "language": "python",
     "metadata": {},
     "outputs": []
    }
   ],
   "metadata": {}
  }
 ]
}
{
 "metadata": {
  "name": ""
 },
 "nbformat": 3,
 "nbformat_minor": 0,
 "worksheets": [
  {
   "cells": [
    {
     "cell_type": "code",
     "collapsed": false,
     "input": [
      "import numpy as np\n",
      "import scipy.special as num"
     ],
     "language": "python",
     "metadata": {},
     "outputs": [],
     "prompt_number": 63
    },
    {
     "cell_type": "code",
     "collapsed": false,
     "input": [
      "A=np.array([0,0,0])*1.8897259886\n",
      "B=A\n",
      "#B=np.array([1.13858,0,0])*1.8897259886\n",
      "C=np.array([0,0,0])*1.8897259886\n",
      "D=np.array([1.13858,0,0])*1.8897259886\n",
      "chargeC=6\n",
      "chargeO=8\n",
      "decay_A=2.263101\n",
      "decay_B=decay_A\n",
      "#decay_B=47.105518"
     ],
     "language": "python",
     "metadata": {},
     "outputs": [],
     "prompt_number": 64
    },
    {
     "cell_type": "code",
     "collapsed": false,
     "input": [
      "zeta=decay_A+decay_B\n",
      "xi=decay_A*decay_B/zeta\n",
      "P=(decay_A*A+decay_B*B)/zeta\n",
      "U1=zeta*(np.dot(P-C,P-C))\n",
      "U2=zeta*(np.dot(P-D,P-D))\n",
      "Normalisation_A=(2*decay_A/np.pi)**0.75\n",
      "Normalisation_B=(2*decay_B/np.pi)**0.75"
     ],
     "language": "python",
     "metadata": {},
     "outputs": [],
     "prompt_number": 65
    },
    {
     "cell_type": "code",
     "collapsed": false,
     "input": [
      "ss=(np.pi/zeta)**1.5*np.exp(-xi*np.dot(A-B,A-B))*Normalisation_A*Normalisation_B\n",
      "print ss1"
     ],
     "language": "python",
     "metadata": {},
     "outputs": [
      {
       "output_type": "stream",
       "stream": "stdout",
       "text": [
        "1.0\n"
       ]
      }
     ],
     "prompt_number": 66
    },
    {
     "cell_type": "code",
     "collapsed": false,
     "input": [
      "def F(T):\n",
      "    if T!=0.0:\n",
      "        return 0.5*num.erf(np.sqrt(T))*(np.pi/T)**0.5\n",
      "    else:\n",
      "        return 1"
     ],
     "language": "python",
     "metadata": {},
     "outputs": [],
     "prompt_number": 72
    },
    {
     "cell_type": "code",
     "collapsed": false,
     "input": [
      "sNucs1=2*(zeta/np.pi)**0.5*ss*F(U1)\n",
      "print U1,F(U1)\n",
      "sNucs2=2*(zeta/np.pi)**0.5*ss*F(U2)\n",
      "print U2,F(U2)\n",
      "print sNucs1,sNucs2\n",
      "print chargeC*sNucs1+chargeO*sNucs2\n"
     ],
     "language": "python",
     "metadata": {},
     "outputs": [
      {
       "output_type": "stream",
       "stream": "stdout",
       "text": [
        "0.0 1\n",
        "20.9536027195 0.193604562597\n",
        "2.40061229145 0.464769492652\n",
        "18.1218296899\n"
       ]
      }
     ],
     "prompt_number": 73
    },
    {
     "cell_type": "code",
     "collapsed": false,
     "input": [
      "2*(2*decay_A/np.pi)**0.5\n"
     ],
     "language": "python",
     "metadata": {},
     "outputs": [
      {
       "metadata": {},
       "output_type": "pyout",
       "prompt_number": 74,
       "text": [
        "2.4006122914497006"
       ]
      }
     ],
     "prompt_number": 74
    },
    {
     "cell_type": "code",
     "collapsed": false,
     "input": [
      "(1.13858*1.8897259886)**2"
     ],
     "language": "python",
     "metadata": {},
     "outputs": [
      {
       "metadata": {},
       "output_type": "pyout",
       "prompt_number": 2,
       "text": [
        "4.629400702740104"
       ]
      }
     ],
     "prompt_number": 2
    },
    {
     "cell_type": "code",
     "collapsed": false,
     "input": [
      "qq"
     ],
     "language": "python",
     "metadata": {},
     "outputs": []
    }
   ],
   "metadata": {}
  }
 ]
}
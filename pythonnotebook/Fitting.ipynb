{
 "metadata": {
  "name": ""
 },
 "nbformat": 3,
 "nbformat_minor": 0,
 "worksheets": [
  {
   "cells": [
    {
     "cell_type": "code",
     "collapsed": false,
     "input": [
      "import numpy as np\n",
      "import scipy as sp\n",
      "import scipy.misc as spm\n",
      "import matplotlib.pyplot as plt\n",
      "%matplotlib inline"
     ],
     "language": "python",
     "metadata": {},
     "outputs": [],
     "prompt_number": 37
    },
    {
     "cell_type": "code",
     "collapsed": false,
     "input": [
      "#reading in file\n",
      "x=[]\n",
      "y=[]\n",
      "with open(\"1CN/1CN.txt\",\"r\") as f:\n",
      "        lines=f.readlines()\n",
      "        for line in lines:\n",
      "            if \"#\" not in line:\n",
      "                x.append(float(line.split()[0]))\n",
      "                y.append(float(line.split()[1]))"
     ],
     "language": "python",
     "metadata": {},
     "outputs": [],
     "prompt_number": 38
    },
    {
     "cell_type": "code",
     "collapsed": false,
     "input": [
      "#Constant parameters to be entered into fit\n",
      "i_max=5\n",
      "m_max=4\n",
      "mij=np.arange(m_max)\n",
      "for i in range(i_max-1):\n",
      "    mij=np.vstack((mij,np.arange(m_max)))\n",
      "omegai=0.001*np.array([1,2,3,4,5])\n",
      "n=1.1\n",
      "print mij\n",
      "S=np.arange(i_max)\n",
      "sigma=np.ones(m_max**2)\n",
      "sigma"
     ],
     "language": "python",
     "metadata": {},
     "outputs": [
      {
       "output_type": "stream",
       "stream": "stdout",
       "text": [
        "[[0 1 2 3]\n",
        " [0 1 2 3]\n",
        " [0 1 2 3]\n",
        " [0 1 2 3]\n",
        " [0 1 2 3]]\n"
       ]
      },
      {
       "metadata": {},
       "output_type": "pyout",
       "prompt_number": 93,
       "text": [
        "array([ 1.,  1.,  1.,  1.,  1.,  1.,  1.,  1.,  1.,  1.,  1.,  1.,  1.,\n",
        "        1.,  1.,  1.])"
       ]
      }
     ],
     "prompt_number": 93
    },
    {
     "cell_type": "code",
     "collapsed": false,
     "input": [
      "def Io(S,m):\n",
      "    return np.exp(-S)*np.power(S,mij.T)#/spm.factorial(mij.T)\n",
      "    \n",
      "print Io(S,mij)\n",
      "print spm.factorial(mij)\n"
     ],
     "language": "python",
     "metadata": {},
     "outputs": [
      {
       "output_type": "stream",
       "stream": "stdout",
       "text": [
        "[[ 1.          0.36787944  0.13533528  0.04978707  0.01831564]\n",
        " [ 0.          0.36787944  0.27067057  0.14936121  0.07326256]\n",
        " [ 0.          0.36787944  0.54134113  0.44808362  0.29305022]\n",
        " [ 0.          0.36787944  1.08268227  1.34425085  1.17220089]]\n",
        "[[ 1.  1.  2.  6.]\n",
        " [ 1.  1.  2.  6.]\n",
        " [ 1.  1.  2.  6.]\n",
        " [ 1.  1.  2.  6.]\n",
        " [ 1.  1.  2.  6.]]\n"
       ]
      }
     ],
     "prompt_number": 74
    },
    {
     "cell_type": "code",
     "collapsed": false,
     "input": [
      "def Gamma(omega,omega0,mij,omegai,sigma):\n",
      "    #print np.sum(mij.T*omegai,axis=0)        \n",
      "    return 1/(sigma*np.sqrt(2*np.pi))*np.exp((-0.5*(omega-omega0-np.sum(mij.T*omegai,axis=0))[:,np.newaxis]/sigma)**2)\n",
      "    \n",
      "print np.shape(Gamma(0.1,0.004,mij,omegai,sigma))\n"
     ],
     "language": "python",
     "metadata": {},
     "outputs": [
      {
       "output_type": "stream",
       "stream": "stdout",
       "text": [
        "(5, 16)\n"
       ]
      }
     ],
     "prompt_number": 114
    },
    {
     "cell_type": "code",
     "collapsed": false,
     "input": [
      "a=np.outer(Io(S,mij),Io(S,mij))\n",
      "print np.shape(Io(S,mij))\n",
      "print np.shape(a)\n",
      "b=np.einsum('ij,kj->ikj',Io(S,mij),Io(S,mij))\n",
      "np.shape(b)"
     ],
     "language": "python",
     "metadata": {},
     "outputs": [
      {
       "output_type": "stream",
       "stream": "stdout",
       "text": [
        "(4, 5)\n",
        "(20, 20)\n"
       ]
      },
      {
       "metadata": {},
       "output_type": "pyout",
       "prompt_number": 113,
       "text": [
        "(4, 4, 5)"
       ]
      }
     ],
     "prompt_number": 113
    },
    {
     "cell_type": "code",
     "collapsed": false,
     "input": [],
     "language": "python",
     "metadata": {},
     "outputs": []
    }
   ],
   "metadata": {}
  }
 ]
}
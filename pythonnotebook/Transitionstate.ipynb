{
 "metadata": {
  "name": ""
 },
 "nbformat": 3,
 "nbformat_minor": 0,
 "worksheets": [
  {
   "cells": [
    {
     "cell_type": "code",
     "collapsed": false,
     "input": [
      "import sqlite3\n",
      "import numpy as np\n",
      "import scipy.linalg as lg\n",
      "import scipy.integrate as it\n",
      "import matplotlib.pyplot as plt\n",
      "import scipy.constants as ct\n",
      "import copy\n",
      "from matplotlib.mlab import griddata\n",
      "from matplotlib.colors import LogNorm\n",
      "from matplotlib import ticker\n",
      "%matplotlib inline\n",
      "plt.rcParams['figure.figsize'] = (10.0, 8.0)\n",
      "hbar=ct.physical_constants[\"Planck constant over 2 pi in eV s\"][0]\n",
      "T=300\n",
      "kbT=T*ct.physical_constants[\"Boltzmann constant in eV/K\"][0]"
     ],
     "language": "python",
     "metadata": {},
     "outputs": [],
     "prompt_number": 1
    },
    {
     "cell_type": "code",
     "collapsed": false,
     "input": [
      "sqlname=\"system_individualmps.sql\"\n",
      "sqlstatement=\"SELECT pairs.seg1, pairs.seg2, pairs.Jeff2s, seg1.eSinglet, seg1.UnXnNs, seg1.UxNxXs, seg2.eSinglet, seg2.UnXnNs, seg2.UxNxXs FROM pairs JOIN segments seg1 ON seg1._id =pairs.seg1 JOIN segments seg2 ON seg2._id =pairs.seg2\"\n",
      "con = sqlite3.connect(sqlname)\n",
      "with con:\n",
      "    cur = con.cursor()\n",
      "    cur.execute(sqlstatement)\n",
      "    rows = cur.fetchall()\n",
      "sql=np.array(rows)\n",
      "lowerlimit=0\n",
      "reorg12=sql[:,4]+sql[:,8]\n",
      "dG12=-sql[:,3]+sql[:,6]\n",
      "reorg21=sql[:,5]+sql[:,7]\n",
      "dG21=-dG12\n",
      "rates12=2*np.pi/hbar*sql[:,2]/np.sqrt(4*np.pi*kbT*reorg12)*np.exp(-(dG12+reorg12)**2/(4*reorg12*kbT))\n",
      "rates21=2*np.pi/hbar*sql[:,2]/np.sqrt(4*np.pi*kbT*reorg21)*np.exp(-(dG21+reorg21)**2/(4*reorg21*kbT))\n",
      "maxi=np.max([np.max(rates12),np.max(rates21)])\n",
      "print maxi\n",
      "\n",
      "sqlstatement=\"SELECT box11,box12,box13,box21,box22,box23,box31,box32,box33 from frames\"\n",
      "con = sqlite3.connect(sqlname)\n",
      "with con:\n",
      "    cur = con.cursor()\n",
      "    cur.execute(sqlstatement)\n",
      "    vecs = cur.fetchall()\n",
      "    box=np.array(vecs).reshape((3,3))\n",
      "    print box\n",
      "sqlstatement=\"SELECT posX,posY,posZ from segments\"\n",
      "con = sqlite3.connect(sqlname)\n",
      "with con:\n",
      "    cur = con.cursor()\n",
      "    cur.execute(sqlstatement)\n",
      "    rows2 = cur.fetchall()\n",
      "    positions=np.array(rows2)\n",
      "\n",
      "#dimension=int(max(np.max(sql[:,0]),np.max(sql[:,1])))\n",
      "dimension=1568\n",
      "print dimension\n",
      "\n",
      "matrix=np.zeros((dimension,dimension))\n",
      "print len(rows)\n",
      "for k in range(len(rows)):\n",
      "    rate12=rates12[k]\n",
      "    rate21=rates21[k]\n",
      "    row=rows[k]\n",
      "    i=row[0]-1\n",
      "    j=row[1]-1 \n",
      "    matrix[i,j]=rate12\n",
      "    matrix[i,i]-=rate12\n",
      "    matrix[j,i]=rate21\n",
      "    matrix[j,j]-=rate21\n",
      "    \n"
     ],
     "language": "python",
     "metadata": {},
     "outputs": [
      {
       "output_type": "stream",
       "stream": "stdout",
       "text": [
        "5.76568162428e+14\n",
        "[[ 10.73884   0.        0.     ]\n",
        " [  0.       10.78449   0.     ]\n",
        " [  0.        0.       10.39411]]\n",
        "1568\n",
        "56151\n"
       ]
      }
     ],
     "prompt_number": 2
    },
    {
     "cell_type": "code",
     "collapsed": false,
     "input": [
      "tau=0.01/np.max(matrix)"
     ],
     "language": "python",
     "metadata": {},
     "outputs": [],
     "prompt_number": 23
    },
    {
     "cell_type": "code",
     "collapsed": false,
     "input": [
      "tau"
     ],
     "language": "python",
     "metadata": {},
     "outputs": [
      {
       "metadata": {},
       "output_type": "pyout",
       "prompt_number": 24,
       "text": [
        "1.7344003106052407e-17"
       ]
      }
     ],
     "prompt_number": 24
    },
    {
     "cell_type": "code",
     "collapsed": false,
     "input": [
      "trans=(lg.expm(tau*matrix)).T\n"
     ],
     "language": "python",
     "metadata": {},
     "outputs": [],
     "prompt_number": 25
    },
    {
     "cell_type": "code",
     "collapsed": false,
     "input": [
      "trans1=trans/(np.sum(trans,axis=1)[:,None])\n",
      "print np.linalg.det(trans)\n",
      "print np.sum(trans1,axis=1)"
     ],
     "language": "python",
     "metadata": {},
     "outputs": [
      {
       "output_type": "stream",
       "stream": "stdout",
       "text": [
        "0.00014410976394\n",
        "[ 1.  1.  1. ...,  1.  1.  1.]\n"
       ]
      }
     ],
     "prompt_number": 32
    },
    {
     "cell_type": "code",
     "collapsed": false,
     "input": [
      "values1,vectors1=lg.eigh(trans1)"
     ],
     "language": "python",
     "metadata": {},
     "outputs": [],
     "prompt_number": 33
    },
    {
     "cell_type": "code",
     "collapsed": false,
     "input": [
      "values,vectors=lg.eigh(trans)"
     ],
     "language": "python",
     "metadata": {},
     "outputs": [],
     "prompt_number": 34
    },
    {
     "cell_type": "code",
     "collapsed": false,
     "input": [
      "values,values1"
     ],
     "language": "python",
     "metadata": {},
     "outputs": [
      {
       "metadata": {},
       "output_type": "pyout",
       "prompt_number": 36,
       "text": [
        "(array([ 0.95213847,  0.96328522,  0.96420853, ...,  1.00523751,\n",
        "        1.00553842,  1.00611041]),\n",
        " array([ 0.96135161,  0.96289335,  0.96295801, ...,  1.00509747,\n",
        "        1.00611492,  1.00843276]))"
       ]
      }
     ],
     "prompt_number": 36
    },
    {
     "cell_type": "code",
     "collapsed": false,
     "input": [],
     "language": "python",
     "metadata": {},
     "outputs": []
    }
   ],
   "metadata": {}
  }
 ]
}
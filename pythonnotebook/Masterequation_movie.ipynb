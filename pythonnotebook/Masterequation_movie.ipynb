{
 "metadata": {
  "name": ""
 },
 "nbformat": 3,
 "nbformat_minor": 0,
 "worksheets": [
  {
   "cells": [
    {
     "cell_type": "code",
     "collapsed": false,
     "input": [
      "import sqlite3\n",
      "import numpy as np\n",
      "import scipy.linalg as lg\n",
      "import scipy.integrate as it\n",
      "import matplotlib.pyplot as plt\n",
      "import scipy.constants as ct\n",
      "import copy\n",
      "from matplotlib.mlab import griddata\n",
      "from matplotlib.colors import LogNorm\n",
      "from matplotlib import ticker\n",
      "%matplotlib inline\n",
      "plt.rcParams['figure.figsize'] = (10.0, 8.0)\n",
      "hbar=ct.physical_constants[\"Planck constant over 2 pi in eV s\"][0]\n",
      "T=300\n",
      "kbT=T*ct.physical_constants[\"Boltzmann constant in eV/K\"][0]"
     ],
     "language": "python",
     "metadata": {},
     "outputs": [],
     "prompt_number": 2
    },
    {
     "cell_type": "code",
     "collapsed": false,
     "input": [
      "sqlname=\"system_individualmps.sql\"\n",
      "sqlstatement=\"SELECT pairs.seg1, pairs.seg2, pairs.Jeff2s, seg1.eSinglet, seg1.UnXnNs, seg1.UxNxXs, seg2.eSinglet, seg2.UnXnNs, seg2.UxNxXs FROM pairs JOIN segments seg1 ON seg1._id =pairs.seg1 JOIN segments seg2 ON seg2._id =pairs.seg2\"\n",
      "con = sqlite3.connect(sqlname)\n",
      "with con:\n",
      "    cur = con.cursor()\n",
      "    cur.execute(sqlstatement)\n",
      "    rows = cur.fetchall()\n",
      "sql=np.array(rows)\n",
      "lowerlimit=0\n",
      "reorg12=sql[:,4]+sql[:,8]\n",
      "dG12=-sql[:,3]+sql[:,6]\n",
      "reorg21=sql[:,5]+sql[:,7]\n",
      "dG21=-dG12\n",
      "rates12=2*np.pi/hbar*sql[:,2]/np.sqrt(4*np.pi*kbT*reorg12)*np.exp(-(dG12+reorg12)**2/(4*reorg12*kbT))\n",
      "rates21=2*np.pi/hbar*sql[:,2]/np.sqrt(4*np.pi*kbT*reorg21)*np.exp(-(dG21+reorg21)**2/(4*reorg21*kbT))\n",
      "maxi=np.max([np.max(rates12),np.max(rates21)])\n",
      "print maxi\n",
      "\n",
      "sqlstatement=\"SELECT box11,box12,box13,box21,box22,box23,box31,box32,box33 from frames\"\n",
      "con = sqlite3.connect(sqlname)\n",
      "with con:\n",
      "    cur = con.cursor()\n",
      "    cur.execute(sqlstatement)\n",
      "    vecs = cur.fetchall()\n",
      "    box=np.array(vecs).reshape((3,3))\n",
      "    print box\n",
      "sqlstatement=\"SELECT posX,posY,posZ from segments\"\n",
      "con = sqlite3.connect(sqlname)\n",
      "with con:\n",
      "    cur = con.cursor()\n",
      "    cur.execute(sqlstatement)\n",
      "    rows2 = cur.fetchall()\n",
      "    positions=np.array(rows2)\n",
      "\n",
      "#dimension=int(max(np.max(sql[:,0]),np.max(sql[:,1])))\n",
      "dimension=1568\n",
      "print dimension\n",
      "\n",
      "matrix=np.zeros((dimension,dimension))\n",
      "print len(rows)\n",
      "for k in range(len(rows)):\n",
      "    rate12=rates12[k]\n",
      "    rate21=rates21[k]\n",
      "    row=rows[k]\n",
      "    i=row[0]-1\n",
      "    j=row[1]-1 \n",
      "    matrix[i,j]=rate12\n",
      "    matrix[i,i]-=rate12\n",
      "    matrix[j,i]=rate21\n",
      "    matrix[j,j]-=rate21\n",
      "    \n",
      "initial=np.zeros(dimension)\n",
      "initial[0]=1.0"
     ],
     "language": "python",
     "metadata": {},
     "outputs": [
      {
       "output_type": "stream",
       "stream": "stdout",
       "text": [
        "5.76568162428e+14\n",
        "[[ 10.73884   0.        0.     ]\n",
        " [  0.       10.78449   0.     ]\n",
        " [  0.        0.       10.39411]]\n",
        "1568\n",
        "56151\n"
       ]
      }
     ],
     "prompt_number": 3
    },
    {
     "cell_type": "code",
     "collapsed": false,
     "input": [
      "if False:\n",
      "    with open(\"matrix.txt\",'w') as f:\n",
      "            for i in range(1,dimension+1):\n",
      "                for j in range(1,dimension+1):\n",
      "                    if matrix[i-1,j-1]!=0.0:\n",
      "                        f.write(\"{:6d} {:6d} {:+1.17e}\\n\".format(i,j,matrix[i-1,j-1]))"
     ],
     "language": "python",
     "metadata": {},
     "outputs": [],
     "prompt_number": 4
    },
    {
     "cell_type": "code",
     "collapsed": false,
     "input": [
      "if False:\n",
      "    sqlname=\"system_individualmps.sql\"\n",
      "    sqlstatement = \"SELECT pairs.id,pairs.seg1, pairs.seg2, pairs.rate12s, pairs.rate21s FROM pairs\"\n",
      "    \n",
      "    con = sqlite3.connect(sqlname)\n",
      "    with con:\n",
      "        cur = con.cursor()\n",
      "        cur.execute(sqlstatement)\n",
      "        rows = cur.fetchall()\n",
      "    sql=np.array(rows)\n",
      "    #print rows[0]\n",
      "    print max(np.max(sql[:,3]),np.max(sql[:,4]))\n",
      "    minimum=min(np.min(sql[:,3]),np.min(sql[:,4]))\n",
      "    print minimum\n",
      "    maximum=max(np.max(sql[:,3]),np.max(sql[:,4]))\n",
      "    dimension=int(max(np.max(sql[:,1]),np.max(sql[:,2])))\n",
      "    print dimension\n",
      "    lowerlimit=0\n",
      "    #print rows[0]\n",
      "    matrix=np.zeros((dimension,dimension))\n",
      "    \n",
      "    for row in rows:\n",
      "        i=row[1]-1\n",
      "        j=row[2]-1\n",
      "        if row[3]>lowerlimit:\n",
      "            matrix[i,j]=row[3]\n",
      "            matrix[i,i]-=(row[3])\n",
      "        \n",
      "        if row[4]>lowerlimit:\n",
      "            matrix[j,i]=row[4]\n",
      "            matrix[j,j]-=(row[4])\n",
      "        \n",
      "    \n",
      "        \n",
      "    \n",
      "   \n",
      "    print np.sum(matrix==0)\n",
      "    print (np.sum(matrix!=0)-dimension)/2\n",
      "\n"
     ],
     "language": "python",
     "metadata": {},
     "outputs": [],
     "prompt_number": 5
    },
    {
     "cell_type": "code",
     "collapsed": false,
     "input": [
      "\n",
      "def f(t,y):\n",
      "    return np.dot(matrix,y)\n",
      "def jac(t,y):\n",
      "    return matrix\n",
      "print np.sum(initial)"
     ],
     "language": "python",
     "metadata": {},
     "outputs": [
      {
       "output_type": "stream",
       "stream": "stdout",
       "text": [
        "1.0\n"
       ]
      }
     ],
     "prompt_number": 6
    },
    {
     "cell_type": "code",
     "collapsed": false,
     "input": [
      "r = it.ode(f, jac).set_integrator('Isoda',  with_jacobian=True)\n",
      "r.set_initial_value(initial)\n",
      "\n",
      "t1 = 10e-13\n",
      "print t1\n",
      "dt = 10e-17\n",
      "solution=[]\n",
      "time=[]\n",
      "while r.successful() and r.t < t1:\n",
      "    r.integrate(r.t+dt)\n",
      "    solution.append(r.y)\n",
      "    time.append(r.t)"
     ],
     "language": "python",
     "metadata": {},
     "outputs": [
      {
       "output_type": "stream",
       "stream": "stdout",
       "text": [
        "1e-12\n"
       ]
      }
     ],
     "prompt_number": 26
    },
    {
     "cell_type": "code",
     "collapsed": false,
     "input": [
      "seg1=[]\n",
      "seg2=[]\n",
      "for sol in solution:\n",
      "    seg1.append(sol[0])\n",
      "    seg2.append(sol[700])\n",
      "#print seg1\n",
      "plt.plot(time,seg1,c='r')\n",
      "plt.plot(time,seg2,c='b')\n",
      "#plt.xscale('log')\n",
      "plt.show()\n"
     ],
     "language": "python",
     "metadata": {},
     "outputs": [
      {
       "metadata": {},
       "output_type": "display_data",
       "png": "[encoded data removed]",
       "text": [
        "<matplotlib.figure.Figure at 0x33a6b90>"
       ]
      }
     ],
     "prompt_number": 8
    },
    {
     "cell_type": "code",
     "collapsed": false,
     "input": [
      "timearray=np.array(time)\n",
      "solutionarray=np.array(solution).T\n",
      "print np.shape(timearray),np.shape(solutionarray)"
     ],
     "language": "python",
     "metadata": {},
     "outputs": [
      {
       "output_type": "stream",
       "stream": "stdout",
       "text": [
        "(10001,) (1568, 10001)\n"
       ]
      }
     ],
     "prompt_number": 9
    },
    {
     "cell_type": "code",
     "collapsed": false,
     "input": [
      "print np.shape(positions)"
     ],
     "language": "python",
     "metadata": {},
     "outputs": [
      {
       "output_type": "stream",
       "stream": "stdout",
       "text": [
        "(1568, 3)\n"
       ]
      }
     ],
     "prompt_number": 10
    },
    {
     "cell_type": "code",
     "collapsed": false,
     "input": [
      "results=np.vstack((time,solutionarray))"
     ],
     "language": "python",
     "metadata": {},
     "outputs": [],
     "prompt_number": 11
    },
    {
     "cell_type": "code",
     "collapsed": false,
     "input": [
      "np.savetxt(\"poft.txt\",results,header=\"Occupationprobability over time\", fmt='%.4e')"
     ],
     "language": "python",
     "metadata": {},
     "outputs": [],
     "prompt_number": 12
    },
    {
     "cell_type": "code",
     "collapsed": false,
     "input": [
      "class segment(object):\n",
      "    def __init__(self,id,pos):\n",
      "        self.id=id\n",
      "        self.pos=pos\n",
      "        self.ghost=False\n",
      "        \n",
      "    def addpoft(self,poft,time):\n",
      "        self.poft=poft\n",
      "        self.time=time\n",
      "        \n",
      "    def shift(self,pos,Ghost=True):\n",
      "        self.pos+=pos\n",
      "        self.ghost=Ghost\n",
      "        \n",
      "\n",
      "        \n",
      "        "
     ],
     "language": "python",
     "metadata": {},
     "outputs": [],
     "prompt_number": 13
    },
    {
     "cell_type": "code",
     "collapsed": false,
     "input": [
      "def plotcontour(x,y,z,box,seg,time):\n",
      "    x=np.array(x)\n",
      "    y=np.array(y)\n",
      "    z=np.array(z)\n",
      "    numcols, numrows = 100, 100\n",
      "    xi = np.linspace(x.min(), x.max(), numcols)\n",
      "    yi = np.linspace(y.min(), y.max(), numrows)\n",
      "    xi, yi = np.meshgrid(xi, yi)\n",
      "    zi = griddata(x, y, z, xi, yi)\n",
      "    fig, ax = plt.subplots()\n",
      "    im = ax.contourf(xi, yi, zi,locator=ticker.LogLocator(),vmin=1e-8, vmax=1e-2)\n",
      "    ax.scatter(x, y, c=z, s=10,vmin=zi.min(), vmax=zi.max())\n",
      "    fig.colorbar(im)\n",
      "    plt.title(\"{:1.3e} s\".format(time))\n",
      "    # drawing simbox\n",
      "    #print seg.pos\n",
      "    x1=seg.pos[0]-0.5*box[0,0]\n",
      "    y1=seg.pos[1]-0.5*box[1,1]\n",
      "    x2=x1+box[0,0]\n",
      "    y2=y1+box[1,1]\n",
      "    ax.plot([x1, x2], [y1, y1], color='k', linestyle='-', linewidth=2)\n",
      "    ax.plot([x1, x1], [y1, y2], color='k', linestyle='-', linewidth=2)\n",
      "    ax.plot([x2, x2], [y1, y2], color='k', linestyle='-', linewidth=2)\n",
      "    ax.plot([x1, x2], [y2, y2], color='k', linestyle='-', linewidth=2)\n",
      "    return fig"
     ],
     "language": "python",
     "metadata": {},
     "outputs": [],
     "prompt_number": 14
    },
    {
     "cell_type": "code",
     "collapsed": false,
     "input": [
      "segments =[]\n",
      "i=0\n",
      "for row in rows2:\n",
      "    segments.append(segment(i,np.array(row)))\n",
      "    i+=1\n",
      "\n",
      "for j,i in zip(segments,range(np.shape(solutionarray)[0])):\n",
      "    j.addpoft(solutionarray[i],timearray)"
     ],
     "language": "python",
     "metadata": {},
     "outputs": [],
     "prompt_number": 15
    },
    {
     "cell_type": "code",
     "collapsed": false,
     "input": [
      "for segment in segments[1:10]:\n",
      "    plt.plot(segment.time,segment.poft)"
     ],
     "language": "python",
     "metadata": {},
     "outputs": [
      {
       "metadata": {},
       "output_type": "display_data",
       "png": "[encoded data removed]",
       "text": [
        "<matplotlib.figure.Figure at 0xc61d5d0>"
       ]
      }
     ],
     "prompt_number": 16
    },
    {
     "cell_type": "code",
     "collapsed": false,
     "input": [
      "print box\n",
      "seg_pbc=[]\n",
      "a=range(-1,2)\n",
      "for segment in segments:\n",
      "    for i in a:\n",
      "        for j in a:\n",
      "            for k in a:\n",
      "                if i==0 and j==0 and k==0:\n",
      "                    seg_pbc.append(segment)\n",
      "                else:\n",
      "                    temp=copy.deepcopy(segment)\n",
      "                    \n",
      "                    vector=i*box[:,0]+j*box[:,1]+k*box[:,2]\n",
      "                    \n",
      "                    temp.shift(vector)\n",
      "               \n",
      "                    seg_pbc.append(temp)\n",
      "    "
     ],
     "language": "python",
     "metadata": {},
     "outputs": [
      {
       "output_type": "stream",
       "stream": "stdout",
       "text": [
        "[[ 10.73884   0.        0.     ]\n",
        " [  0.       10.78449   0.     ]\n",
        " [  0.        0.       10.39411]]\n"
       ]
      }
     ],
     "prompt_number": 17
    },
    {
     "cell_type": "code",
     "collapsed": false,
     "input": [
      "for i in range(len(seg_pbc)):\n",
      "    if seg_pbc[i].poft[0]>0.5 and seg_pbc[i].ghost==False:\n",
      "        print i,seg_pbc[i].pos"
     ],
     "language": "python",
     "metadata": {},
     "outputs": [
      {
       "output_type": "stream",
       "stream": "stdout",
       "text": [
        "13 [ 0.34141351  2.99195552  0.70540362]\n"
       ]
      }
     ],
     "prompt_number": 18
    },
    {
     "cell_type": "code",
     "collapsed": false,
     "input": [
      "xyplane=[]\n",
      "for segment in seg_pbc:\n",
      "    if np.abs(segment.pos[2]-seg_pbc[300].pos[2])<0.3:\n",
      "        xyplane.append(segment)"
     ],
     "language": "python",
     "metadata": {},
     "outputs": [],
     "prompt_number": 19
    },
    {
     "cell_type": "code",
     "collapsed": false,
     "input": [
      "\n",
      "print len(xyplane)\n",
      "x=[]\n",
      "y=[]\n",
      "for seg in xyplane:\n",
      "    x.append(seg.pos[0])\n",
      "    y.append(seg.pos[1])\n",
      "times=seg_pbc[13].time\n",
      "j=0\n",
      "for i in range(0,len(times)/15,1):\n",
      "    #print times[i]\n",
      "    \n",
      "    p0=[]\n",
      "    for seg in xyplane:\n",
      "        p0.append(seg.poft[i])\n",
      "    \n",
      "    fig=plotcontour(x,y,p0,box,seg_pbc[13],times[i])\n",
      "    plt.savefig(\"contour_{:04d}_s.png\".format(j))\n",
      "    plt.close()\n",
      "    j+=1"
     ],
     "language": "python",
     "metadata": {},
     "outputs": [
      {
       "output_type": "stream",
       "stream": "stdout",
       "text": [
        "756\n"
       ]
      }
     ],
     "prompt_number": 25
    },
    {
     "cell_type": "code",
     "collapsed": false,
     "input": [],
     "language": "python",
     "metadata": {},
     "outputs": []
    }
   ],
   "metadata": {}
  }
 ]
}
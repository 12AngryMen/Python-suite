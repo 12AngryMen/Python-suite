{
 "metadata": {
  "name": ""
 },
 "nbformat": 3,
 "nbformat_minor": 0,
 "worksheets": [
  {
   "cells": [
    {
     "cell_type": "code",
     "collapsed": false,
     "input": [
      "import numpy as np\n",
      "import scipy.special as sp\n",
      "import pylab as plt\n",
      "%matplotlib inline"
     ],
     "language": "python",
     "metadata": {},
     "outputs": [],
     "prompt_number": 76
    },
    {
     "cell_type": "code",
     "collapsed": false,
     "input": [
      "N=10\n",
      "n=np.arange(N)\n",
      "n1=np.linspace(0,N,N*10)"
     ],
     "language": "python",
     "metadata": {},
     "outputs": [],
     "prompt_number": 77
    },
    {
     "cell_type": "code",
     "collapsed": false,
     "input": [
      "p=0.5\n",
      "q=1-p"
     ],
     "language": "python",
     "metadata": {},
     "outputs": [],
     "prompt_number": 78
    },
    {
     "cell_type": "code",
     "collapsed": false,
     "input": [
      "def binominal(n,p,q,N):\n",
      "    return sp.binom(N,n)*p**(n)*q**(N-n)\n",
      "print binominal(n,p,q,N)"
     ],
     "language": "python",
     "metadata": {},
     "outputs": [
      {
       "output_type": "stream",
       "stream": "stdout",
       "text": [
        "[ 0.00097656  0.00976562  0.04394531  0.1171875   0.20507812  0.24609375\n",
        "  0.20507812  0.1171875   0.04394531  0.00976562]\n"
       ]
      }
     ],
     "prompt_number": 79
    },
    {
     "cell_type": "code",
     "collapsed": false,
     "input": [
      "def gauss(n,p,q,N):\n",
      "    return 1/np.sqrt(2*np.pi*(N*p*q))*np.exp(-0.5*(n-N*p)**2/(N*p*q))\n",
      "    #return 1/np.sqrt(2*np.pi*(N*p))*np.exp(-0.5*(n-N*p)**2/(N*p))"
     ],
     "language": "python",
     "metadata": {},
     "outputs": [],
     "prompt_number": 80
    },
    {
     "cell_type": "code",
     "collapsed": false,
     "input": [
      "plt.plot(n,binominal(n,p,q,N))\n",
      "plt.plot(n1,gauss(n1,p,q,N))"
     ],
     "language": "python",
     "metadata": {},
     "outputs": [
      {
       "metadata": {},
       "output_type": "pyout",
       "prompt_number": 81,
       "text": [
        "[<matplotlib.lines.Line2D at 0x3aa7510>]"
       ]
      },
      {
       "metadata": {},
       "output_type": "display_data",
       "png": "[encoded data removed]",
       "text": [
        "<matplotlib.figure.Figure at 0x44b9990>"
       ]
      }
     ],
     "prompt_number": 81
    },
    {
     "cell_type": "code",
     "collapsed": false,
     "input": [],
     "language": "python",
     "metadata": {},
     "outputs": [],
     "prompt_number": 81
    }
   ],
   "metadata": {}
  }
 ]
}
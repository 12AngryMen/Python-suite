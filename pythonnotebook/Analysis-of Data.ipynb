{
 "cells": [
  {
   "cell_type": "code",
   "execution_count": 1,
   "metadata": {},
   "outputs": [],
   "source": [
    "import numpy as np\n",
    "import matplotlib.pyplot as plt\n",
    "plt.rcParams['figure.figsize'] = (12.0, 9.0)\n",
    "%matplotlib inline\n",
    "import csv\n"
   ]
  },
  {
   "cell_type": "code",
   "execution_count": 2,
   "metadata": {},
   "outputs": [
    {
     "name": "stdout",
     "output_type": "stream",
     "text": [
      "1E9inserts_1s_1.csv\n",
      "1E9inserts_1s_2.csv\n",
      "1E9inserts_1s_3.csv\n"
     ]
    }
   ],
   "source": [
    "filenames=[]\n",
    "\n",
    "for f in range(1,4):\n",
    "    filename=\"1E9inserts_1s_{}.csv\".format(f)\n",
    "    filenames.append(filename)\n",
    "    print filename\n",
    "#filenames=[\"2E6inserts_1s.csv\"]"
   ]
  },
  {
   "cell_type": "code",
   "execution_count": 3,
   "metadata": {},
   "outputs": [],
   "source": [
    "\n",
    "arrays=[]\n",
    "for f in filenames:\n",
    "     with open(filename,'r') as csvfile:\n",
    "        for line in csvfile:\n",
    "            if line[0]==\"#\":\n",
    "                continue\n",
    "            l=line.split()\n",
    "            arrays.append(np.array([float(l[-3]),float(l[-2]),float(l[-1])]))\n",
    "            "
   ]
  },
  {
   "cell_type": "code",
   "execution_count": 11,
   "metadata": {},
   "outputs": [],
   "source": [
    "#array=np.loadtxt(filenames[0])"
   ]
  },
  {
   "cell_type": "code",
   "execution_count": 17,
   "metadata": {},
   "outputs": [
    {
     "name": "stdout",
     "output_type": "stream",
     "text": [
      "-8.9514e-07 9.14442e-07\n"
     ]
    }
   ],
   "source": [
    "arrays=np.array(arrays)\n",
    "max=np.max(pos)\n",
    "min=np.min(pos)\n",
    "print min,max"
   ]
  },
  {
   "cell_type": "code",
   "execution_count": 46,
   "metadata": {},
   "outputs": [
    {
     "name": "stdout",
     "output_type": "stream",
     "text": [
      "43491259.0\n"
     ]
    }
   ],
   "source": [
    "hist,edges=np.histogramdd(pos, bins=200,range=[[min,max],[min,max],[min,max]])\n",
    "print np.sum(hist)\n",
    "heatmap=hist[:,:,100]\n",
    "xedges=edges[0]\n",
    "yedges=edges[1]\n",
    "extent = [xedges[0], xedges[-1], yedges[0], yedges[-1]]\n"
   ]
  },
  {
   "cell_type": "code",
   "execution_count": 57,
   "metadata": {},
   "outputs": [
    {
     "name": "stdout",
     "output_type": "stream",
     "text": [
      "122002\n",
      "7877998\n"
     ]
    }
   ],
   "source": [
    "print np.sum(hist>0)\n",
    "print np.sum(hist==0)"
   ]
  },
  {
   "cell_type": "code",
   "execution_count": 4,
   "metadata": {},
   "outputs": [
    {
     "ename": "NameError",
     "evalue": "name 'heatmap' is not defined",
     "output_type": "error",
     "traceback": [
      "\u001b[0;31m---------------------------------------------------------------------------\u001b[0m\n\u001b[0;31mNameError\u001b[0m                                 Traceback (most recent call last)",
      "\u001b[0;32m<ipython-input-4-fbdc8f56cabc>\u001b[0m in \u001b[0;36m<module>\u001b[0;34m()\u001b[0m\n\u001b[1;32m      1\u001b[0m \u001b[0mplt\u001b[0m\u001b[0;34m.\u001b[0m\u001b[0mclf\u001b[0m\u001b[0;34m(\u001b[0m\u001b[0;34m)\u001b[0m\u001b[0;34m\u001b[0m\u001b[0m\n\u001b[0;32m----> 2\u001b[0;31m \u001b[0mplt\u001b[0m\u001b[0;34m.\u001b[0m\u001b[0mimshow\u001b[0m\u001b[0;34m(\u001b[0m\u001b[0mnp\u001b[0m\u001b[0;34m.\u001b[0m\u001b[0mlog\u001b[0m\u001b[0;34m(\u001b[0m\u001b[0mheatmap\u001b[0m\u001b[0;34m)\u001b[0m\u001b[0;34m,\u001b[0m\u001b[0mextent\u001b[0m\u001b[0;34m=\u001b[0m\u001b[0mextent\u001b[0m\u001b[0;34m,\u001b[0m\u001b[0minterpolation\u001b[0m\u001b[0;34m=\u001b[0m\u001b[0;34m'nearest'\u001b[0m\u001b[0;34m)\u001b[0m\u001b[0;34m\u001b[0m\u001b[0m\n\u001b[0m\u001b[1;32m      3\u001b[0m \u001b[0mplt\u001b[0m\u001b[0;34m.\u001b[0m\u001b[0mcolorbar\u001b[0m\u001b[0;34m(\u001b[0m\u001b[0;34m)\u001b[0m\u001b[0;34m\u001b[0m\u001b[0m\n\u001b[1;32m      4\u001b[0m \u001b[0mplt\u001b[0m\u001b[0;34m.\u001b[0m\u001b[0mgrid\u001b[0m\u001b[0;34m(\u001b[0m\u001b[0;34m)\u001b[0m\u001b[0;34m\u001b[0m\u001b[0m\n\u001b[1;32m      5\u001b[0m \u001b[0mplt\u001b[0m\u001b[0;34m.\u001b[0m\u001b[0mticklabel_format\u001b[0m\u001b[0;34m(\u001b[0m\u001b[0mstyle\u001b[0m\u001b[0;34m=\u001b[0m\u001b[0;34m'sci'\u001b[0m\u001b[0;34m,\u001b[0m\u001b[0mscilimits\u001b[0m\u001b[0;34m=\u001b[0m\u001b[0;34m(\u001b[0m\u001b[0;36m0\u001b[0m\u001b[0;34m,\u001b[0m\u001b[0;36m0\u001b[0m\u001b[0;34m)\u001b[0m\u001b[0;34m)\u001b[0m\u001b[0;34m\u001b[0m\u001b[0m\n",
      "\u001b[0;31mNameError\u001b[0m: name 'heatmap' is not defined"
     ]
    },
    {
     "data": {
      "text/plain": [
       "<matplotlib.figure.Figure at 0x7ff742c24e50>"
      ]
     },
     "metadata": {},
     "output_type": "display_data"
    }
   ],
   "source": [
    "plt.clf()\n",
    "plt.imshow(np.log(heatmap),extent=extent,interpolation='nearest')\n",
    "plt.colorbar()\n",
    "plt.grid()\n",
    "plt.ticklabel_format(style='sci',scilimits=(0,0))\n",
    "plt.xticks(rotation='vertical')\n",
    "plt.gca().set_aspect('equal', adjustable='box')\n",
    "plt.savefig('mobility.svg',dpi=300)\n",
    "plt.show()"
   ]
  },
  {
   "cell_type": "code",
   "execution_count": null,
   "metadata": {},
   "outputs": [],
   "source": [
    "dist=np.sqrt(np.sum(pos**2,axis=1))\n",
    "print np.mean(dist)\n",
    "print np.std(dist)\n"
   ]
  },
  {
   "cell_type": "code",
   "execution_count": null,
   "metadata": {},
   "outputs": [],
   "source": [
    "x2=np.sqrt(np.mean(pos[:,0]**2))\n",
    "y2=np.sqrt(np.mean(pos[:,1]**2))\n",
    "z2=np.sqrt(np.mean(pos[:,2]**2))\n",
    "print x2,y2,z2"
   ]
  },
  {
   "cell_type": "code",
   "execution_count": null,
   "metadata": {},
   "outputs": [],
   "source": [
    "plt.hist(dist,1000)\n",
    "plt.ylabel('Counts')\n",
    "plt.xlabel('diffusionlength [m]')\n",
    "plt.savefig(\"distdiff.svg\")\n",
    "plt.show()"
   ]
  },
  {
   "cell_type": "code",
   "execution_count": null,
   "metadata": {},
   "outputs": [],
   "source": [
    "def fakecubefile(xyzarray,edges,filename,norm=True,log=False):\n",
    "    xav=0.5*(edges[0][0]+edges[0][-1])\n",
    "    yav=0.5*(edges[1][0]+edges[1][-1])\n",
    "    zav=0.5*(edges[2][0]+edges[2][-1])\n",
    "    xmin=0.5*(edges[0][0]-edges[0][1])+edges[0][0]\n",
    "    xstep=np.absolute(edges[0][0]-edges[0][1])\n",
    "    xsteps=len(edges[0])-1\n",
    "    ymin=0.5*(edges[1][0]-edges[1][1])+edges[1][0]\n",
    "    ystep=np.absolute(edges[1][0]-edges[1][1])\n",
    "    ysteps=len(edges[1])-1\n",
    "    zmin=0.5*(edges[2][0]-edges[2][1])+edges[2][0]\n",
    "    zstep=np.absolute(edges[2][0]-edges[2][1])\n",
    "    zsteps=len(edges[2])-1\n",
    "    if norm:\n",
    "        normfactor=np.min([xstep,ystep,zstep])\n",
    "        print normfactor\n",
    "        xmin=xmin/normfactor\n",
    "        ymin=ymin/normfactor\n",
    "        zmin=zmin/normfactor\n",
    "        xstep=xstep/normfactor\n",
    "        ystep=ystep/normfactor\n",
    "        zstep=zstep/normfactor\n",
    "        xav=xav/normfactor\n",
    "        yav=yav/normfactor\n",
    "        zav=zav/normfactor\n",
    "    with open(filename,'w') as f:\n",
    "        f.write(\"Mobility plot faked by python\\n\")\n",
    "        f.write(\"Created by Jens\\n\")\n",
    "        f.write(\"1 {} {} {}\\n\".format(xmin,ymin,zmin))\n",
    "        f.write(\"{} {} 0 0\\n\".format(xsteps,xstep))\n",
    "        f.write(\"{} 0 {} 0 \\n\".format(ysteps,ystep))\n",
    "        f.write(\"{} 0 0 {}\\n\".format(zsteps,zstep))\n",
    "        f.write(\"55 0 {} {} {}\\n\".format(xav,yav,zav))\n",
    "        N=0\n",
    "        for i in range(xyzarray.shape[0]):\n",
    "            for j in range(xyzarray.shape[1]):\n",
    "                 for k in range(xyzarray.shape[2]):\n",
    "                    value=xyzarray[i,j,k]\n",
    "                    if log and value>0:\n",
    "                        value=np.log(value)\n",
    "                    N+=1  \n",
    "                    if N==6:\n",
    "                        f.write(\"{:E}\\n\".format(value))\n",
    "                        N=0\n",
    "                    else:\n",
    "                        f.write(\"{:E} \".format(value))"
   ]
  },
  {
   "cell_type": "code",
   "execution_count": 75,
   "metadata": {},
   "outputs": [
    {
     "name": "stdout",
     "output_type": "stream",
     "text": [
      "9.04791e-09\n"
     ]
    }
   ],
   "source": [
    "fakecubefile(hist,edges,'test.cub',log=True)"
   ]
  },
  {
   "cell_type": "code",
   "execution_count": null,
   "metadata": {},
   "outputs": [],
   "source": []
  }
 ],
 "metadata": {
  "kernelspec": {
   "display_name": "Python 2",
   "language": "python",
   "name": "python2"
  },
  "language_info": {
   "codemirror_mode": {
    "name": "ipython",
    "version": 2
   },
   "file_extension": ".py",
   "mimetype": "text/x-python",
   "name": "python",
   "nbconvert_exporter": "python",
   "pygments_lexer": "ipython2",
   "version": "2.7.12"
  }
 },
 "nbformat": 4,
 "nbformat_minor": 1
}

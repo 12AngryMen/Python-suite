{
 "metadata": {
  "name": ""
 },
 "nbformat": 3,
 "nbformat_minor": 0,
 "worksheets": [
  {
   "cells": [
    {
     "cell_type": "code",
     "collapsed": false,
     "input": [
      "import sqlite3\n",
      "import numpy as np\n",
      "import scipy.linalg as lg\n",
      "import scipy.integrate as it\n",
      "import scipy.optimize as op\n",
      "import matplotlib.pyplot as plt\n",
      "import scipy.constants as ct\n",
      "import copy\n",
      "from matplotlib.mlab import griddata\n",
      "from matplotlib.colors import LogNorm\n",
      "from matplotlib import ticker\n",
      "%matplotlib inline\n",
      "plt.rcParams['figure.figsize'] = (10.0, 8.0)\n",
      "hbar=ct.physical_constants[\"Planck constant over 2 pi in eV s\"][0]\n",
      "T=300\n",
      "kbT=T*ct.physical_constants[\"Boltzmann constant in eV/K\"][0]"
     ],
     "language": "python",
     "metadata": {},
     "outputs": [],
     "prompt_number": 97
    },
    {
     "cell_type": "code",
     "collapsed": false,
     "input": [
      "sqlname=\"system_individualmps.sql\"\n",
      "sqlstatement=\"SELECT pairs.seg1, pairs.seg2, pairs.Jeff2s, seg1.eSinglet, seg1.UnXnNs, seg1.UxNxXs, seg2.eSinglet, seg2.UnXnNs, seg2.UxNxXs FROM pairs JOIN segments seg1 ON seg1._id =pairs.seg1 JOIN segments seg2 ON seg2._id =pairs.seg2\"\n",
      "con = sqlite3.connect(sqlname)\n",
      "with con:\n",
      "    cur = con.cursor()\n",
      "    cur.execute(sqlstatement)\n",
      "    rows = cur.fetchall()\n",
      "sql=np.array(rows)\n",
      "lowerlimit=0\n",
      "reorg12=sql[:,4]+sql[:,8]\n",
      "dG12=-sql[:,3]+sql[:,6]\n",
      "reorg21=sql[:,5]+sql[:,7]\n",
      "dG21=-dG12\n",
      "rates12=2*np.pi/hbar*sql[:,2]/np.sqrt(4*np.pi*kbT*reorg12)*np.exp(-(dG12+reorg12)**2/(4*reorg12*kbT))\n",
      "rates21=2*np.pi/hbar*sql[:,2]/np.sqrt(4*np.pi*kbT*reorg21)*np.exp(-(dG21+reorg21)**2/(4*reorg21*kbT))\n",
      "maxi=np.max([np.max(rates12),np.max(rates21)])\n",
      "print maxi\n",
      "mini=np.min([np.min(rates12),np.min(rates21)])\n",
      "print mini\n",
      "\n",
      "sqlstatement=\"SELECT box11,box12,box13,box21,box22,box23,box31,box32,box33 from frames\"\n",
      "con = sqlite3.connect(sqlname)\n",
      "with con:\n",
      "    cur = con.cursor()\n",
      "    cur.execute(sqlstatement)\n",
      "    vecs = cur.fetchall()\n",
      "    box=np.array(vecs).reshape((3,3))\n",
      "    print box\n",
      "sqlstatement=\"SELECT posX,posY,posZ from segments\"\n",
      "con = sqlite3.connect(sqlname)\n",
      "with con:\n",
      "    cur = con.cursor()\n",
      "    cur.execute(sqlstatement)\n",
      "    rows2 = cur.fetchall()\n",
      "    positions=np.array(rows2)\n",
      "\n",
      "#dimension=int(max(np.max(sql[:,0]),np.max(sql[:,1])))\n",
      "dimension=1568\n",
      "print dimension\n",
      "\n",
      "matrix=np.zeros((dimension,dimension))\n",
      "print len(rows)\n",
      "for k in range(len(rows)):\n",
      "    rate12=rates12[k]\n",
      "    rate21=rates21[k]\n",
      "    row=rows[k]\n",
      "    i=row[0]-1\n",
      "    j=row[1]-1 \n",
      "    matrix[i,j]=rate12/mini\n",
      "    matrix[i,i]-=rate12/mini\n",
      "    matrix[j,i]=rate21/mini\n",
      "    matrix[j,j]-=rate21/mini\n",
      "  \n",
      "initial=np.zeros(dimension)\n",
      "\n",
      "initial[600]=1.0\n",
      "\n",
      "b=matrix[:-1,-1,np.newaxis]\n",
      "reducedmatrix=matrix[:-1,:-1]-b"
     ],
     "language": "python",
     "metadata": {},
     "outputs": [
      {
       "output_type": "stream",
       "stream": "stdout",
       "text": [
        "5.76568162428e+14\n",
        "844.160901478\n",
        "[[ 10.73884   0.        0.     ]\n",
        " [  0.       10.78449   0.     ]\n",
        " [  0.        0.       10.39411]]\n",
        "1568\n",
        "56151\n"
       ]
      }
     ],
     "prompt_number": 155
    },
    {
     "cell_type": "code",
     "collapsed": false,
     "input": [
      "\n",
      "def f(t,y): \n",
      "    value=np.dot(reducedmatrix,y)+b[:,0]\n",
      "    return value\n",
      "def jac(t,y):\n",
      "    return reducedmatrix"
     ],
     "language": "python",
     "metadata": {},
     "outputs": [],
     "prompt_number": 156
    },
    {
     "cell_type": "code",
     "collapsed": false,
     "input": [
      "r = it.ode(f, jac).set_integrator('Isoda', with_jacobian=True,atol=1e-12,rtol=1e-12)\n",
      "r.set_initial_value(initial[:-1])\n",
      "\n",
      "t1 = 10e-12*mini\n",
      "print t1\n",
      "dt = 10e-15*mini\n",
      "solution=[]\n",
      "time=[]\n",
      "while r.successful() and r.t < t1:\n",
      "    r.integrate(r.t+dt)\n",
      "    solution.append(r.y)\n",
      "    time.append(r.t)"
     ],
     "language": "python",
     "metadata": {},
     "outputs": [
      {
       "output_type": "stream",
       "stream": "stdout",
       "text": [
        "8.44160901478e-09\n"
       ]
      }
     ],
     "prompt_number": 157
    },
    {
     "cell_type": "code",
     "collapsed": false,
     "input": [
      "timearray=np.array(time)\n",
      "solutionarray1=np.array(solution).T\n",
      "print np.shape(timearray),np.shape(solutionarray)\n",
      "plast=1-np.sum(solutionarray1,axis=0)\n",
      "print np.sum(solutionarray1,axis=0)"
     ],
     "language": "python",
     "metadata": {},
     "outputs": [
      {
       "output_type": "stream",
       "stream": "stdout",
       "text": [
        "(1001,) (1568, 1001)\n",
        "[ 0.78383784  0.83796699  0.86659781 ...,  0.99931502  0.99931518\n",
        "  0.99931535]\n"
       ]
      }
     ],
     "prompt_number": 169
    },
    {
     "cell_type": "code",
     "collapsed": false,
     "input": [
      "print 1-1/float(dimension)\n",
      "print np.shape(positions)\n",
      "#0.99931525"
     ],
     "language": "python",
     "metadata": {},
     "outputs": [
      {
       "output_type": "stream",
       "stream": "stdout",
       "text": [
        "0.999362244898\n",
        "(1568, 3)\n"
       ]
      }
     ],
     "prompt_number": 170
    },
    {
     "cell_type": "code",
     "collapsed": false,
     "input": [
      "\n",
      "solutionarray=np.vstack((solutionarray1,plast))\n",
      "\n",
      "results=np.vstack((time,solutionarray))"
     ],
     "language": "python",
     "metadata": {},
     "outputs": [],
     "prompt_number": 171
    },
    {
     "cell_type": "code",
     "collapsed": false,
     "input": [
      "np.savetxt(\"poft.txt\",results,header=\"Occupationprobability over time\", fmt='%.4e')"
     ],
     "language": "python",
     "metadata": {},
     "outputs": [],
     "prompt_number": 161
    },
    {
     "cell_type": "code",
     "collapsed": false,
     "input": [
      "print np.sum(solutionarray,axis=0)\n",
      "x=np.arange(-3,4)\n",
      "g=2*np.pi*lg.inv(box)\n",
      "print g\n",
      "kx,ky,kz=np.meshgrid(x,x,x)"
     ],
     "language": "python",
     "metadata": {},
     "outputs": [
      {
       "output_type": "stream",
       "stream": "stdout",
       "text": [
        "[ 1.  1.  1. ...,  1.  1.  1.]\n",
        "[[ 0.58508976 -0.         -0.        ]\n",
        " [ 0.          0.58261311 -0.        ]\n",
        " [ 0.          0.          0.60449479]]\n"
       ]
      }
     ],
     "prompt_number": 162
    },
    {
     "cell_type": "code",
     "collapsed": false,
     "input": [
      "kindices=np.array([kx.flatten(),ky.flatten(),kz.flatten()])\n",
      "\n",
      "kvectors=np.dot(kindices.T,g)\n",
      "print kvectors.shape\n",
      "print positions.shape\n",
      "print kindices.T"
     ],
     "language": "python",
     "metadata": {},
     "outputs": [
      {
       "output_type": "stream",
       "stream": "stdout",
       "text": [
        "(343, 3)\n",
        "(1568, 3)\n",
        "[[-3 -3 -3]\n",
        " [-3 -3 -2]\n",
        " [-3 -3 -1]\n",
        " ..., \n",
        " [ 3  3  1]\n",
        " [ 3  3  2]\n",
        " [ 3  3  3]]\n"
       ]
      }
     ],
     "prompt_number": 163
    },
    {
     "cell_type": "code",
     "collapsed": false,
     "input": [
      "V=np.linalg.det(box)\n",
      "print 1/V\n",
      "N=float(dimension)\n",
      "print N\n"
     ],
     "language": "python",
     "metadata": {},
     "outputs": [
      {
       "output_type": "stream",
       "stream": "stdout",
       "text": [
        "0.000830721991361\n",
        "1568.0\n"
       ]
      }
     ],
     "prompt_number": 164
    },
    {
     "cell_type": "code",
     "collapsed": false,
     "input": [
      "rm=initial*positions.T\n",
      "#print np.dot(kvectors,positions.T-rm).T\n",
      "expkrj=np.exp(-1j*np.dot(kvectors,positions.T-rm))\n",
      "print solutionarray.shape,expkrj.shape\n",
      "summand=V/N*np.dot(solutionarray.T,expkrj.T)\n",
      "summand.shape"
     ],
     "language": "python",
     "metadata": {},
     "outputs": [
      {
       "output_type": "stream",
       "stream": "stdout",
       "text": [
        "(1568, 1001) (343, 1568)\n"
       ]
      },
      {
       "metadata": {},
       "output_type": "pyout",
       "prompt_number": 165,
       "text": [
        "(1001, 343)"
       ]
      }
     ],
     "prompt_number": 165
    },
    {
     "cell_type": "code",
     "collapsed": false,
     "input": [
      "# right now only valid for one insertion position\n",
      "if False:\n",
      "    rm=initial*positions.T\n",
      "    rm=rm[:,initial>0]\n",
      "    M=np.sum(initial)\n",
      "    expkrm=np.average(np.exp(-1j*np.dot(kvectors,rm)),axis=1)\n",
      "\n",
      "    pk=summand*expkrm"
     ],
     "language": "python",
     "metadata": {},
     "outputs": [],
     "prompt_number": 166
    },
    {
     "cell_type": "code",
     "collapsed": false,
     "input": [
      "print summand[:,16]\n",
      "print summand[:,13]\n",
      "print np.sum(summand)"
     ],
     "language": "python",
     "metadata": {},
     "outputs": [
      {
       "output_type": "stream",
       "stream": "stdout",
       "text": [
        "[-0.12858145+0.08272446j -0.10438655+0.065817j   -0.08665656+0.05426612j\n",
        " ..., -0.00038479-0.00017362j -0.00038472-0.00017368j\n",
        " -0.00038465-0.00017374j]\n",
        "[-0.21299312-0.01574008j -0.15539150-0.0121788j  -0.12099083-0.01040613j\n",
        " ...,  0.00024801+0.00026689j  0.00024817+0.00026688j\n",
        "  0.00024832+0.00026686j]\n",
        "(1334.34823652+6.78471442575e-15j)\n"
       ]
      }
     ],
     "prompt_number": 167
    },
    {
     "cell_type": "code",
     "collapsed": false,
     "input": [
      "plt.plot(time,summand[:,16].real)\n",
      "plt.plot(time,summand[:,10].real)\n",
      "print time[0]\n",
      "def f(t,D):\n",
      "    return np.exp(-D*kvectors[10,0]**2*t)\n",
      "#plt.xscale(\"log\")\n",
      "\n",
      "popt, pcov = op.curve_fit(f, timearray[:10], summand[:,10].real[:10])\n",
      "print popt,pcov\n",
      "plt.plot(time,f(timearray,popt[0]))\n",
      "plt.show()\n"
     ],
     "language": "python",
     "metadata": {},
     "outputs": [
      {
       "output_type": "stream",
       "stream": "stdout",
       "text": [
        "8.44160901478e-12\n",
        "[ 1.] inf\n"
       ]
      },
      {
       "metadata": {},
       "output_type": "display_data",
       "png": "[encoded data removed]",
       "text": [
        "<matplotlib.figure.Figure at 0x7f2c5d35b5d0>"
       ]
      }
     ],
     "prompt_number": 168
    },
    {
     "cell_type": "code",
     "collapsed": false,
     "input": [],
     "language": "python",
     "metadata": {},
     "outputs": []
    }
   ],
   "metadata": {}
  }
 ]
}
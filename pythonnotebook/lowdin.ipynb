{
 "metadata": {
  "name": ""
 },
 "nbformat": 3,
 "nbformat_minor": 0,
 "worksheets": [
  {
   "cells": [
    {
     "cell_type": "code",
     "collapsed": false,
     "input": [
      "import numpy as np\n",
      "import numpy.linalg as lg\n",
      "import scipy.linalg as sg"
     ],
     "language": "python",
     "metadata": {},
     "outputs": [],
     "prompt_number": 1
    },
    {
     "cell_type": "code",
     "collapsed": false,
     "input": [
      "#a=np.array([[0.159758,-0.000103486,-0.0270744,0.0281025],[-0.000103484,0.159758,0.0281025,-0.0270744],[-0.0270744,0.0281025,0.293894,-8.66569e-05],[0.0281025,-0.0270744,-8.66584e-05,0.293894]])"
     ],
     "language": "python",
     "metadata": {},
     "outputs": [],
     "prompt_number": 2
    },
    {
     "cell_type": "code",
     "collapsed": false,
     "input": [
      "a=np.array([[0.15987,0.000574572,-0.0152401,0.0399866],[0.000574574,0.15987,0.0399866,-0.0152401],[-0.0152401,0.0399866,0.293519,0.00061436],[0.0399866,-0.0152401,0.00061436,0.293519]])"
     ],
     "language": "python",
     "metadata": {},
     "outputs": [],
     "prompt_number": 3
    },
    {
     "cell_type": "code",
     "collapsed": false,
     "input": [
      "values,vectors=lg.eig(a)\n",
      "print values\n",
      "(values[1]-values[0])*13.6/2.0"
     ],
     "language": "python",
     "metadata": {},
     "outputs": [
      {
       "output_type": "stream",
       "stream": "stdout",
       "text": [
        "[ 0.13942337  0.1560109   0.3127767   0.29856703]\n"
       ]
      },
      {
       "metadata": {},
       "output_type": "pyout",
       "prompt_number": 4,
       "text": [
        "0.11279522468014359"
       ]
      }
     ],
     "prompt_number": 4
    },
    {
     "cell_type": "code",
     "collapsed": false,
     "input": [
      "print vectors"
     ],
     "language": "python",
     "metadata": {},
     "outputs": [
      {
       "output_type": "stream",
       "stream": "stdout",
       "text": [
        "[[-0.66534451  0.69602395 -0.23940892  0.12470208]\n",
        " [ 0.66534459  0.69602402  0.23940891  0.12470208]\n",
        " [-0.23940892 -0.1247021   0.66534455  0.69602398]\n",
        " [ 0.23940891 -0.12470207 -0.66534455  0.69602399]]\n"
       ]
      }
     ],
     "prompt_number": 5
    },
    {
     "cell_type": "code",
     "collapsed": false,
     "input": [
      "#V_eff"
     ],
     "language": "python",
     "metadata": {},
     "outputs": [],
     "prompt_number": 6
    },
    {
     "cell_type": "code",
     "collapsed": false,
     "input": [
      "Veff=a[1,0]-a[2,0]*a[2,1]/(a[2,2]-0.5*(a[0,0]+a[1,1]))-a[3,0]*a[3,1]/(a[3,3]-0.5*(a[0,0]+a[1,1]))"
     ],
     "language": "python",
     "metadata": {},
     "outputs": [],
     "prompt_number": 7
    },
    {
     "cell_type": "code",
     "collapsed": false,
     "input": [
      "print Veff*13.6"
     ],
     "language": "python",
     "metadata": {},
     "outputs": [
      {
       "output_type": "stream",
       "stream": "stdout",
       "text": [
        "0.131838135411\n"
       ]
      }
     ],
     "prompt_number": 8
    },
    {
     "cell_type": "code",
     "collapsed": false,
     "input": [
      "J=np.array([[0.15987,0.000574569,-0.0152401,0.0399866],[0.000574574,0.15987,0.0399866,-0.0152401],[-0.0152401,0.0399866,0.293519,0.00061436],[0.0399866,-0.0152401,0.00061436,0.293519]])"
     ],
     "language": "python",
     "metadata": {},
     "outputs": [],
     "prompt_number": 9
    },
    {
     "cell_type": "code",
     "collapsed": false,
     "input": [
      "S=np.array([[0.999015,0.00295997,0.0517151,0.0528857],[0.00295997,0.999015,0.0528857,0.0517151],[0.0517151,0.0528857,0.999058,0.00293647],[0.0528857,0.0517151,0.00293647,0.999058]])"
     ],
     "language": "python",
     "metadata": {},
     "outputs": [],
     "prompt_number": 10
    },
    {
     "cell_type": "code",
     "collapsed": false,
     "input": [
      "print J\n",
      "print S"
     ],
     "language": "python",
     "metadata": {},
     "outputs": [
      {
       "output_type": "stream",
       "stream": "stdout",
       "text": [
        "[[ 0.15987     0.00057457 -0.0152401   0.0399866 ]\n",
        " [ 0.00057457  0.15987     0.0399866  -0.0152401 ]\n",
        " [-0.0152401   0.0399866   0.293519    0.00061436]\n",
        " [ 0.0399866  -0.0152401   0.00061436  0.293519  ]]\n",
        "[[ 0.999015    0.00295997  0.0517151   0.0528857 ]\n",
        " [ 0.00295997  0.999015    0.0528857   0.0517151 ]\n",
        " [ 0.0517151   0.0528857   0.999058    0.00293647]\n",
        " [ 0.0528857   0.0517151   0.00293647  0.999058  ]]\n"
       ]
      }
     ],
     "prompt_number": 11
    },
    {
     "cell_type": "code",
     "collapsed": false,
     "input": [
      "eigenvals=sg.eigvals(J,b=S).real\n",
      "print eigenvals"
     ],
     "language": "python",
     "metadata": {},
     "outputs": [
      {
       "output_type": "stream",
       "stream": "stdout",
       "text": [
        "[ 0.1400793   0.1596466   0.31376243  0.29381493]\n"
       ]
      }
     ],
     "prompt_number": 12
    },
    {
     "cell_type": "code",
     "collapsed": false,
     "input": [
      "Stilde=S-np.identity(4)"
     ],
     "language": "python",
     "metadata": {},
     "outputs": [],
     "prompt_number": 13
    },
    {
     "cell_type": "code",
     "collapsed": false,
     "input": [
      "print Stilde"
     ],
     "language": "python",
     "metadata": {},
     "outputs": [
      {
       "output_type": "stream",
       "stream": "stdout",
       "text": [
        "[[-0.000985    0.00295997  0.0517151   0.0528857 ]\n",
        " [ 0.00295997 -0.000985    0.0528857   0.0517151 ]\n",
        " [ 0.0517151   0.0528857  -0.000942    0.00293647]\n",
        " [ 0.0528857   0.0517151   0.00293647 -0.000942  ]]\n"
       ]
      }
     ],
     "prompt_number": 14
    },
    {
     "cell_type": "code",
     "collapsed": false,
     "input": [
      "def lowdintrans(J,S):\n",
      "    values,vectors=lg.eigh(S) \n",
      "    print values\n",
      "    sqrtS=np.zeros_like(S)+np.diag(np.sqrt(1/values))\n",
      "    Sm1=np.dot(np.dot(vectors,sqrtS),vectors.T)\n",
      "    Jeff=np.dot(np.dot(Sm1,J),Sm1)\n",
      "    return Jeff\n"
     ],
     "language": "python",
     "metadata": {},
     "outputs": [],
     "prompt_number": 15
    },
    {
     "cell_type": "code",
     "collapsed": false,
     "input": [
      "Jeff=lowdintrans(J,S)\n",
      "#Jeff=J\n",
      "print Jeff"
     ],
     "language": "python",
     "metadata": {},
     "outputs": [
      {
       "output_type": "stream",
       "stream": "stdout",
       "text": [
        "[ 0.89738392  0.99491721  0.99725935  1.10658552]\n",
        "[[  1.59757961e-01  -1.03483557e-04  -2.70743479e-02   2.81025538e-02]\n",
        " [ -1.03478532e-04   1.59757961e-01   2.81025537e-02  -2.70743480e-02]\n",
        " [ -2.70743480e-02   2.81025538e-02   2.93893668e-01  -8.66207618e-05]\n",
        " [  2.81025537e-02  -2.70743479e-02  -8.66207619e-05   2.93893668e-01]]\n"
       ]
      }
     ],
     "prompt_number": 16
    },
    {
     "cell_type": "code",
     "collapsed": false,
     "input": [
      "print Jeff\n",
      "Jeff=0.5*(Jeff+Jeff.T)\n",
      "\n",
      "\n"
     ],
     "language": "python",
     "metadata": {},
     "outputs": [
      {
       "output_type": "stream",
       "stream": "stdout",
       "text": [
        "[[  1.59757961e-01  -1.03483557e-04  -2.70743479e-02   2.81025538e-02]\n",
        " [ -1.03478532e-04   1.59757961e-01   2.81025537e-02  -2.70743480e-02]\n",
        " [ -2.70743480e-02   2.81025538e-02   2.93893668e-01  -8.66207618e-05]\n",
        " [  2.81025537e-02  -2.70743479e-02  -8.66207619e-05   2.93893668e-01]]\n"
       ]
      }
     ],
     "prompt_number": 17
    },
    {
     "cell_type": "code",
     "collapsed": false,
     "input": [
      "e1,vec1=lg.eig(Jeff[:2,:2])\n",
      "e2,vec2=lg.eig(Jeff[2:,2:])\n",
      "print e1, e2"
     ],
     "language": "python",
     "metadata": {},
     "outputs": [
      {
       "output_type": "stream",
       "stream": "stdout",
       "text": [
        "[ 0.15986144  0.15965448] [ 0.29380705  0.29398029]\n"
       ]
      }
     ],
     "prompt_number": 18
    },
    {
     "cell_type": "code",
     "collapsed": false,
     "input": [
      "T=np.zeros((4,4))\n",
      "T[:2,:2]=vec1\n",
      "T[2:,2:]=vec2\n",
      "print T\n",
      "JP=np.dot(T.T,np.dot(Jeff,T))\n",
      "print JP"
     ],
     "language": "python",
     "metadata": {},
     "outputs": [
      {
       "output_type": "stream",
       "stream": "stdout",
       "text": [
        "[[ 0.70710678  0.70710678  0.          0.        ]\n",
        " [-0.70710678  0.70710678  0.          0.        ]\n",
        " [ 0.          0.         -0.70710678  0.70710678]\n",
        " [ 0.          0.         -0.70710678 -0.70710678]]\n",
        "[[  1.59861442e-01   0.00000000e+00   4.33637501e-14  -5.51769017e-02]\n",
        " [  0.00000000e+00   1.59654480e-01  -1.02820582e-03   3.96731259e-14]\n",
        " [  4.33680869e-14  -1.02820582e-03   2.93807047e-01  -2.77555756e-17]\n",
        " [ -5.51769017e-02   3.96749690e-14   0.00000000e+00   2.93980289e-01]]\n"
       ]
      }
     ],
     "prompt_number": 19
    },
    {
     "cell_type": "code",
     "collapsed": false,
     "input": [
      "ep=np.zeros((2,2))\n",
      "ep[0,0]=JP[0,0]+JP[0,3]*JP[3,0]/(JP[0,0]-JP[3,3])+JP[0,2]*JP[2,0]/(JP[0,0]-JP[2,2])\n",
      "ep[1,1]=JP[1,1]+JP[1,3]*JP[3,1]/(JP[1,1]-JP[3,3])+JP[1,2]*JP[2,1]/(JP[1,1]-JP[2,2])\n"
     ],
     "language": "python",
     "metadata": {},
     "outputs": [],
     "prompt_number": 20
    },
    {
     "cell_type": "code",
     "collapsed": false,
     "input": [
      "print ep\n",
      "Jfinal=np.dot(vec1,np.dot(ep,vec1.T))"
     ],
     "language": "python",
     "metadata": {},
     "outputs": [
      {
       "output_type": "stream",
       "stream": "stdout",
       "text": [
        "[[ 0.1371615  0.       ]\n",
        " [ 0.         0.1596466]]\n"
       ]
      }
     ],
     "prompt_number": 21
    },
    {
     "cell_type": "code",
     "collapsed": false,
     "input": [
      "print Jfinal"
     ],
     "language": "python",
     "metadata": {},
     "outputs": [
      {
       "output_type": "stream",
       "stream": "stdout",
       "text": [
        "[[ 0.14840405  0.01124255]\n",
        " [ 0.01124255  0.14840405]]\n"
       ]
      }
     ],
     "prompt_number": 22
    },
    {
     "cell_type": "code",
     "collapsed": false,
     "input": [
      "print Jfinal[0,1]*13.6"
     ],
     "language": "python",
     "metadata": {},
     "outputs": [
      {
       "output_type": "stream",
       "stream": "stdout",
       "text": [
        "0.152898697611\n"
       ]
      }
     ],
     "prompt_number": 23
    },
    {
     "cell_type": "code",
     "collapsed": false,
     "input": [
      "e,vec=lg.eig(Jeff)"
     ],
     "language": "python",
     "metadata": {},
     "outputs": [],
     "prompt_number": 24
    },
    {
     "cell_type": "code",
     "collapsed": false,
     "input": [
      "print e\n",
      "print vec\n",
      "subT=vec[:2,:2]/np.sqrt(np.sum(vec[:2,:2]**2,axis=0))\n",
      "print subT"
     ],
     "language": "python",
     "metadata": {},
     "outputs": [
      {
       "output_type": "stream",
       "stream": "stdout",
       "text": [
        "[ 0.1400793   0.1596466   0.31376243  0.29381493]\n",
        "[[ 0.66562081  0.70708602 -0.23863976  0.00541911]\n",
        " [-0.66562081  0.70708602  0.23863976  0.00541911]\n",
        " [ 0.23863976 -0.00541911  0.66562081  0.70708602]\n",
        " [-0.23863976 -0.00541911 -0.66562081  0.70708602]]\n",
        "[[ 0.70710678  0.70710678]\n",
        " [-0.70710678  0.70710678]]\n"
       ]
      }
     ],
     "prompt_number": 25
    },
    {
     "cell_type": "code",
     "collapsed": false,
     "input": [
      "esub=np.diag(e[:2])\n",
      "print esub"
     ],
     "language": "python",
     "metadata": {},
     "outputs": [
      {
       "output_type": "stream",
       "stream": "stdout",
       "text": [
        "[[ 0.1400793  0.       ]\n",
        " [ 0.         0.1596466]]\n"
       ]
      }
     ],
     "prompt_number": 26
    },
    {
     "cell_type": "code",
     "collapsed": false,
     "input": [
      "Jfinal2=np.dot(subT,np.dot(esub,subT.T))\n",
      "print Jfinal2"
     ],
     "language": "python",
     "metadata": {},
     "outputs": [
      {
       "output_type": "stream",
       "stream": "stdout",
       "text": [
        "[[ 0.14986295  0.00978365]\n",
        " [ 0.00978365  0.14986295]]\n"
       ]
      }
     ],
     "prompt_number": 27
    },
    {
     "cell_type": "code",
     "collapsed": false,
     "input": [
      "print Jfinal2[0,1]*13.6"
     ],
     "language": "python",
     "metadata": {},
     "outputs": [
      {
       "output_type": "stream",
       "stream": "stdout",
       "text": [
        "0.133057609777\n"
       ]
      }
     ],
     "prompt_number": 28
    },
    {
     "cell_type": "code",
     "collapsed": false,
     "input": [
      "(0.138920995861-0.136391729)/0.138920995861"
     ],
     "language": "python",
     "metadata": {},
     "outputs": [
      {
       "metadata": {},
       "output_type": "pyout",
       "prompt_number": 29,
       "text": [
        "0.0182065125960566"
       ]
      }
     ],
     "prompt_number": 29
    },
    {
     "cell_type": "code",
     "collapsed": false,
     "input": [
      "q"
     ],
     "language": "python",
     "metadata": {},
     "outputs": [
      {
       "ename": "NameError",
       "evalue": "name 'q' is not defined",
       "output_type": "pyerr",
       "traceback": [
        "\u001b[0;31m---------------------------------------------------------------------------\u001b[0m\n\u001b[0;31mNameError\u001b[0m                                 Traceback (most recent call last)",
        "\u001b[0;32m<ipython-input-30-c3be117041a1>\u001b[0m in \u001b[0;36m<module>\u001b[0;34m()\u001b[0m\n\u001b[0;32m----> 1\u001b[0;31m \u001b[0mq\u001b[0m\u001b[0;34m\u001b[0m\u001b[0m\n\u001b[0m",
        "\u001b[0;31mNameError\u001b[0m: name 'q' is not defined"
       ]
      }
     ],
     "prompt_number": 30
    },
    {
     "cell_type": "code",
     "collapsed": false,
     "input": [],
     "language": "python",
     "metadata": {},
     "outputs": []
    }
   ],
   "metadata": {}
  }
 ]
}
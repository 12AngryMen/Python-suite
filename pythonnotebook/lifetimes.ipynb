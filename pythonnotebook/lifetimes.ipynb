{
 "metadata": {
  "name": ""
 },
 "nbformat": 3,
 "nbformat_minor": 0,
 "worksheets": [
  {
   "cells": [
    {
     "cell_type": "raw",
     "metadata": {},
     "source": [
      "This file is wrong as the gwbse files are from before the gwa.cc fix which changes the energies"
     ]
    },
    {
     "cell_type": "code",
     "collapsed": false,
     "input": [
      "import numpy as np\n",
      "import sys\n",
      "import matplotlib.pyplot as plt\n",
      "import os\n",
      "import scipy.constants as ct\n",
      "import lxml.etree as lxml\n",
      "import sqlite3\n",
      "\n",
      "from mpl_toolkits.mplot3d import Axes3D\n",
      "%matplotlib inline\n",
      "Ryd2eV=13.605692\n",
      "epsilon=3\n",
      "bohr2m=5.2917721092E-11"
     ],
     "language": "python",
     "metadata": {},
     "outputs": [],
     "prompt_number": 1
    },
    {
     "cell_type": "code",
     "collapsed": false,
     "input": [
      "def readSqlall(sqlname):\n",
      "        sqlstatement = \"SELECT eSinglet FROM segments\"\n",
      "        con = sqlite3.connect(sqlname)\n",
      "        with con:\n",
      "                cur = con.cursor()\n",
      "                cur.execute(sqlstatement)\n",
      "                rows = cur.fetchall()\n",
      "\n",
      "        sqlall=(np.array(rows)[:,0])\n",
      "        \n",
      "        return sqlall\n",
      "    \n",
      "def writeEnergies(sqlname,energies):\n",
      "    con = sqlite3.connect(sqlname)\n",
      "    with con:      \n",
      "        cur = con.cursor()\n",
      "        for i in range(energies.size):\n",
      "            sqlstatement = \"UPDATE segments SET UxXnNs={} WHERE id={}\".format(energies[i],i+1)\n",
      "            \n",
      "            cur.execute(sqlstatement)\n",
      "             \n",
      "    \n",
      "def readorb(filename):\n",
      "    trdip=False\n",
      "    energy=False\n",
      "    with open(filename,\"r\") as f:\n",
      "        lines=f.readlines()\n",
      "        for line in lines:\n",
      "            if \"Singlet1[eV]:\" in line:\n",
      "                energy=float(line.split()[3])\n",
      "            if \"Singlet1 x y z\" in line:\n",
      "                #print line\n",
      "                a=line.split()\n",
      "                x=float(a[7])\n",
      "                y=float(a[8])\n",
      "                z=float(a[9])\n",
      "                trdip=bohr2m*np.array([x,y,z])*np.sqrt(2)\n",
      "                \n",
      "        \n",
      "    return trdip,energy"
     ],
     "language": "python",
     "metadata": {},
     "outputs": [],
     "prompt_number": 2
    },
    {
     "cell_type": "code",
     "collapsed": false,
     "input": [
      "#files1=os.listdir(\"logfiles2\")\n",
      "files1=[]\n",
      "files2=[]\n",
      "senergies=readSqlall(\"system_individualmps.sql\")\n",
      "energies=[]\n",
      "for i in range(1,1569):\n",
      "    files1.append(\"molecule_{}.orb.log\".format(i))\n",
      "#files2=os.listdir(\"espfits\")\n",
      "\n",
      "hbar=ct.physical_constants['Planck constant over 2 pi in eV s'][0]\n",
      "\n",
      "lifetimes=[]\n",
      "for filename,sitenergy in zip(files1,senergies):\n",
      "    #print filename\n",
      "    trp,energy=readorb(\"logfiles2/\"+filename)\n",
      "    energies.append(energy)\n",
      "    omega=(energy+sitenergy)/hbar\n",
      "    lifetime=(3*ct.c**2)/(np.sqrt(epsilon)*4*ct.alpha*omega**3*np.dot(trp,trp))\n",
      "    lifetimes.append(lifetime)\n",
      "lifetimes=np.array(lifetimes)\n",
      "energies=np.array(energies)\n",
      "print np.std(energies),np.mean(energies),np.std(senergies),np.average(senergies)\n",
      "print np.average(lifetimes)\n",
      "print np.std(lifetimes)"
     ],
     "language": "python",
     "metadata": {},
     "outputs": [
      {
       "output_type": "stream",
       "stream": "stdout",
       "text": [
        "0.0988749615107 2.16558397321 0.0587592182765 -0.11309557602\n",
        "8.49977465134e-10\n",
        "1.08802712566e-10\n"
       ]
      }
     ],
     "prompt_number": 3
    },
    {
     "cell_type": "code",
     "collapsed": false,
     "input": [
      "#writeEnergies(\"system_individualmps.sql\",energies)"
     ],
     "language": "python",
     "metadata": {},
     "outputs": [
      {
       "ename": "SyntaxError",
       "evalue": "invalid syntax (<ipython-input-4-45103e01eaa3>, line 1)",
       "output_type": "pyerr",
       "traceback": [
        "\u001b[0;36m  File \u001b[0;32m\"<ipython-input-4-45103e01eaa3>\"\u001b[0;36m, line \u001b[0;32m1\u001b[0m\n\u001b[0;31m    8.writeEnergies(\"system_individualmps.sql\",energies)\u001b[0m\n\u001b[0m                  ^\u001b[0m\n\u001b[0;31mSyntaxError\u001b[0m\u001b[0;31m:\u001b[0m invalid syntax\n"
       ]
      }
     ],
     "prompt_number": 4
    },
    {
     "cell_type": "code",
     "collapsed": false,
     "input": [
      "n, bins, patches = plt.hist(lifetimes, 50,  facecolor='green')\n",
      "plt.xlabel('lifetime [s]')\n",
      "plt.ylabel('Counts')\n",
      "plt.savefig(\"lifetimedistribution.svg\")\n",
      "plt.show()\n",
      "print lifetimes.shape"
     ],
     "language": "python",
     "metadata": {},
     "outputs": [
      {
       "metadata": {},
       "output_type": "display_data",
       "png": "[encoded data removed]",
       "text": [
        "<matplotlib.figure.Figure at 0x7f3cdc1a5a50>"
       ]
      },
      {
       "output_type": "stream",
       "stream": "stdout",
       "text": [
        "(1568,)\n"
       ]
      }
     ],
     "prompt_number": 5
    },
    {
     "cell_type": "code",
     "collapsed": false,
     "input": [
      "root = lxml.Element(\"lifetimes\")\n",
      "for i,tau in  zip(range(1,1569),lifetimes):\n",
      "    entry=lxml.Element(\"site\",id=\"{}\".format(i))\n",
      "    entry.text=\"{:1.6e}\".format(tau)\n",
      "    root.append(entry)\n",
      "with open(\"lifetimes.xml\", 'w') as f:\n",
      "    f.write(lxml.tostring(root, pretty_print=True))"
     ],
     "language": "python",
     "metadata": {},
     "outputs": [],
     "prompt_number": 7
    },
    {
     "cell_type": "code",
     "collapsed": false,
     "input": [
      "total=energies+senergies\n",
      "n=plt.hist((total-np.mean(total)),50,label=\"combined std={:1.2f}\".format(np.std(total)))\n",
      "n=plt.hist((energies-np.mean(energies)),50,label=\"conformational disorder std={:1.2f}\".format(np.std(energies)))\n",
      "n=plt.hist((senergies-np.mean(senergies)),50,label=\"estatic disorder std={:1.2f}\".format(np.std(senergies)))\n",
      "plt.ylabel('Counts')\n",
      "plt.xlabel('deviation from average siteenergy [eV]')\n",
      "plt.savefig(\"siteenergies.svg\")\n",
      "\n",
      "plt.legend()\n",
      "plt.show()"
     ],
     "language": "python",
     "metadata": {},
     "outputs": [
      {
       "metadata": {},
       "output_type": "display_data",
       "png": "[encoded data removed]",
       "text": [
        "<matplotlib.figure.Figure at 0x7f3cdcbe7310>"
       ]
      }
     ],
     "prompt_number": 6
    },
    {
     "cell_type": "raw",
     "metadata": {},
     "source": [
      "This file is wrong as the gwbse files are from before the gwa.cc fix which changes the energies"
     ]
    },
    {
     "cell_type": "code",
     "collapsed": false,
     "input": [],
     "language": "python",
     "metadata": {},
     "outputs": []
    }
   ],
   "metadata": {}
  }
 ]
}
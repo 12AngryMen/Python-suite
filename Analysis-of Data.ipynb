{
 "metadata": {
  "name": ""
 },
 "nbformat": 3,
 "nbformat_minor": 0,
 "worksheets": [
  {
   "cells": [
    {
     "cell_type": "code",
     "collapsed": false,
     "input": [
      "import numpy as np\n",
      "import matplotlib.pyplot as plt\n",
      "plt.rcParams['figure.figsize'] = (12.0, 9.0)\n",
      "%matplotlib inline\n",
      "import csv\n"
     ],
     "language": "python",
     "metadata": {},
     "outputs": [],
     "prompt_number": 1
    },
    {
     "cell_type": "code",
     "collapsed": false,
     "input": [
      "filenames=[]\n",
      "\n",
      "for f in range(1,4):\n",
      "    filename=\"1E9inserts_1s_{}.csv\".format(f)\n",
      "    filenames.append(filename)\n",
      "    print filename\n",
      "#filenames=[\"2E6inserts_1s.csv\"]"
     ],
     "language": "python",
     "metadata": {},
     "outputs": [
      {
       "output_type": "stream",
       "stream": "stdout",
       "text": [
        "1E9inserts_1s_1.csv\n",
        "1E9inserts_1s_2.csv\n",
        "1E9inserts_1s_3.csv\n"
       ]
      }
     ],
     "prompt_number": 15
    },
    {
     "cell_type": "code",
     "collapsed": false,
     "input": [
      "\n",
      "arrays=[]\n",
      "for f in filenames:\n",
      "     with open(filename,'r') as csvfile:\n",
      "        for line in csvfile:\n",
      "            if line[0]==\"#\":\n",
      "                continue\n",
      "            l=line.split()\n",
      "            arrays.append(np.array([float(l[-3]),float(l[-2]),float(l[-1])]))\n",
      "            "
     ],
     "language": "python",
     "metadata": {},
     "outputs": [],
     "prompt_number": 16
    },
    {
     "cell_type": "code",
     "collapsed": false,
     "input": [
      "#array=np.loadtxt(filenames[0])"
     ],
     "language": "python",
     "metadata": {},
     "outputs": [],
     "prompt_number": 11
    },
    {
     "cell_type": "code",
     "collapsed": false,
     "input": [
      "arrays=np.array(arrays)\n",
      "max=np.max(pos)\n",
      "min=np.min(pos)\n",
      "print min,max"
     ],
     "language": "python",
     "metadata": {},
     "outputs": [
      {
       "output_type": "stream",
       "stream": "stdout",
       "text": [
        "-8.9514e-07 9.14442e-07\n"
       ]
      }
     ],
     "prompt_number": 17
    },
    {
     "cell_type": "code",
     "collapsed": false,
     "input": [
      "hist,edges=np.histogramdd(pos, bins=200,range=[[min,max],[min,max],[min,max]])\n",
      "print np.sum(hist)\n",
      "heatmap=hist[:,:,100]\n",
      "xedges=edges[0]\n",
      "yedges=edges[1]\n",
      "extent = [xedges[0], xedges[-1], yedges[0], yedges[-1]]\n"
     ],
     "language": "python",
     "metadata": {},
     "outputs": [
      {
       "output_type": "stream",
       "stream": "stdout",
       "text": [
        "43491259.0\n"
       ]
      }
     ],
     "prompt_number": 46
    },
    {
     "cell_type": "code",
     "collapsed": false,
     "input": [
      "print np.sum(hist>0)\n",
      "print np.sum(hist==0)"
     ],
     "language": "python",
     "metadata": {},
     "outputs": [
      {
       "output_type": "stream",
       "stream": "stdout",
       "text": [
        "122002\n",
        "7877998\n"
       ]
      }
     ],
     "prompt_number": 57
    },
    {
     "cell_type": "code",
     "collapsed": false,
     "input": [
      "plt.clf()\n",
      "plt.imshow(np.log(heatmap),extent=extent,interpolation='nearest')\n",
      "plt.colorbar()\n",
      "plt.grid()\n",
      "plt.ticklabel_format(style='sci',scilimits=(0,0))\n",
      "plt.xticks(rotation='vertical')\n",
      "plt.gca().set_aspect('equal', adjustable='box')\n",
      "plt.savefig('mobility.svg',dpi=300)\n",
      "plt.show()"
     ],
     "language": "python",
     "metadata": {},
     "outputs": [
      {
       "metadata": {},
       "output_type": "display_data",
       "png": "[encoded data removed]",
       "text": [
        "<matplotlib.figure.Figure at 0x7fad9d708910>"
       ]
      }
     ],
     "prompt_number": 50
    },
    {
     "cell_type": "code",
     "collapsed": false,
     "input": [
      "dist=np.sqrt(np.sum(pos**2,axis=1))\n",
      "print np.mean(dist)\n",
      "print np.std(dist)\n"
     ],
     "language": "python",
     "metadata": {},
     "outputs": [
      {
       "output_type": "stream",
       "stream": "stdout",
       "text": [
        "6.54083166722e-08\n",
        "5.23865106039e-08"
       ]
      },
      {
       "output_type": "stream",
       "stream": "stdout",
       "text": [
        "\n"
       ]
      }
     ],
     "prompt_number": 51
    },
    {
     "cell_type": "code",
     "collapsed": false,
     "input": [
      "x2=np.sqrt(np.mean(pos[:,0]**2))\n",
      "y2=np.sqrt(np.mean(pos[:,1]**2))\n",
      "z2=np.sqrt(np.mean(pos[:,2]**2))\n",
      "print x2,y2,z2"
     ],
     "language": "python",
     "metadata": {},
     "outputs": [
      {
       "output_type": "stream",
       "stream": "stdout",
       "text": [
        "2.96024388668e-08 7.37127537207e-08 2.66968150758e-08\n"
       ]
      }
     ],
     "prompt_number": 77
    },
    {
     "cell_type": "code",
     "collapsed": false,
     "input": [
      "plt.hist(dist,1000)\n",
      "plt.ylabel('Counts')\n",
      "plt.xlabel('diffusionlength [m]')\n",
      "plt.savefig(\"distdiff.svg\")\n",
      "plt.show()"
     ],
     "language": "python",
     "metadata": {},
     "outputs": [
      {
       "metadata": {},
       "output_type": "display_data",
       "png": "[encoded data removed]",
       "text": [
        "<matplotlib.figure.Figure at 0x7fad9d9136d0>"
       ]
      }
     ],
     "prompt_number": 52
    },
    {
     "cell_type": "code",
     "collapsed": false,
     "input": [
      "def fakecubefile(xyzarray,edges,filename,norm=True,log=False):\n",
      "    xav=0.5*(edges[0][0]+edges[0][-1])\n",
      "    yav=0.5*(edges[1][0]+edges[1][-1])\n",
      "    zav=0.5*(edges[2][0]+edges[2][-1])\n",
      "    xmin=0.5*(edges[0][0]-edges[0][1])+edges[0][0]\n",
      "    xstep=np.absolute(edges[0][0]-edges[0][1])\n",
      "    xsteps=len(edges[0])-1\n",
      "    ymin=0.5*(edges[1][0]-edges[1][1])+edges[1][0]\n",
      "    ystep=np.absolute(edges[1][0]-edges[1][1])\n",
      "    ysteps=len(edges[1])-1\n",
      "    zmin=0.5*(edges[2][0]-edges[2][1])+edges[2][0]\n",
      "    zstep=np.absolute(edges[2][0]-edges[2][1])\n",
      "    zsteps=len(edges[2])-1\n",
      "    if norm:\n",
      "        normfactor=np.min([xstep,ystep,zstep])\n",
      "        print normfactor\n",
      "        xmin=xmin/normfactor\n",
      "        ymin=ymin/normfactor\n",
      "        zmin=zmin/normfactor\n",
      "        xstep=xstep/normfactor\n",
      "        ystep=ystep/normfactor\n",
      "        zstep=zstep/normfactor\n",
      "        xav=xav/normfactor\n",
      "        yav=yav/normfactor\n",
      "        zav=zav/normfactor\n",
      "    with open(filename,'w') as f:\n",
      "        f.write(\"Mobility plot faked by python\\n\")\n",
      "        f.write(\"Created by Jens\\n\")\n",
      "        f.write(\"1 {} {} {}\\n\".format(xmin,ymin,zmin))\n",
      "        f.write(\"{} {} 0 0\\n\".format(xsteps,xstep))\n",
      "        f.write(\"{} 0 {} 0 \\n\".format(ysteps,ystep))\n",
      "        f.write(\"{} 0 0 {}\\n\".format(zsteps,zstep))\n",
      "        f.write(\"55 0 {} {} {}\\n\".format(xav,yav,zav))\n",
      "        N=0\n",
      "        for i in range(xyzarray.shape[0]):\n",
      "            for j in range(xyzarray.shape[1]):\n",
      "                 for k in range(xyzarray.shape[2]):\n",
      "                    value=xyzarray[i,j,k]\n",
      "                    if log and value>0:\n",
      "                        value=np.log(value)\n",
      "                    N+=1  \n",
      "                    if N==6:\n",
      "                        f.write(\"{:E}\\n\".format(value))\n",
      "                        N=0\n",
      "                    else:\n",
      "                        f.write(\"{:E} \".format(value))"
     ],
     "language": "python",
     "metadata": {},
     "outputs": [],
     "prompt_number": 74
    },
    {
     "cell_type": "code",
     "collapsed": false,
     "input": [
      "fakecubefile(hist,edges,'test.cub',log=True)"
     ],
     "language": "python",
     "metadata": {},
     "outputs": [
      {
       "output_type": "stream",
       "stream": "stdout",
       "text": [
        "9.04791e-09\n"
       ]
      }
     ],
     "prompt_number": 75
    },
    {
     "cell_type": "code",
     "collapsed": false,
     "input": [],
     "language": "python",
     "metadata": {},
     "outputs": []
    }
   ],
   "metadata": {}
  }
 ]
}